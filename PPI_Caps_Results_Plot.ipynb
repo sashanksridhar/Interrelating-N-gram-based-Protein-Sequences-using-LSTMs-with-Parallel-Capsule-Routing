{
  "nbformat": 4,
  "nbformat_minor": 0,
  "metadata": {
    "colab": {
      "name": "PPI-Caps.ipynb",
      "provenance": []
    },
    "kernelspec": {
      "name": "python3",
      "display_name": "Python 3"
    },
    "language_info": {
      "name": "python"
    }
  },
  "cells": [
    {
      "cell_type": "code",
      "metadata": {
        "id": "0pnj77OUhCpY"
      },
      "source": [
        ""
      ],
      "execution_count": null,
      "outputs": []
    },
    {
      "cell_type": "code",
      "metadata": {
        "colab": {
          "base_uri": "https://localhost:8080/"
        },
        "id": "3K__Tg-Bbngo",
        "outputId": "9b8b44b8-2173-4cd4-945a-eb1e2bdb4541"
      },
      "source": [
        "!pip uninstall -y tensorflow"
      ],
      "execution_count": 1,
      "outputs": [
        {
          "output_type": "stream",
          "name": "stdout",
          "text": [
            "Found existing installation: tensorflow 2.6.0\n",
            "Uninstalling tensorflow-2.6.0:\n",
            "  Successfully uninstalled tensorflow-2.6.0\n"
          ]
        }
      ]
    },
    {
      "cell_type": "code",
      "metadata": {
        "colab": {
          "base_uri": "https://localhost:8080/"
        },
        "id": "j_qjv40tbt2J",
        "outputId": "a3468a40-9358-4386-a474-cd089cf5db0a"
      },
      "source": [
        "!pip3 uninstall -y keras\n",
        "!pip uninstall -y keras-nightly"
      ],
      "execution_count": 2,
      "outputs": [
        {
          "output_type": "stream",
          "name": "stdout",
          "text": [
            "Found existing installation: keras 2.6.0\n",
            "Uninstalling keras-2.6.0:\n",
            "  Successfully uninstalled keras-2.6.0\n",
            "\u001b[33mWARNING: Skipping keras-nightly as it is not installed.\u001b[0m\n"
          ]
        }
      ]
    },
    {
      "cell_type": "code",
      "metadata": {
        "colab": {
          "base_uri": "https://localhost:8080/"
        },
        "id": "bz0hbpdHb4xk",
        "outputId": "3a173627-9e9c-4707-828b-fbc2565deb2f"
      },
      "source": [
        "!pip3 install keras==2.2.4"
      ],
      "execution_count": 3,
      "outputs": [
        {
          "output_type": "stream",
          "name": "stdout",
          "text": [
            "Collecting keras==2.2.4\n",
            "  Downloading Keras-2.2.4-py2.py3-none-any.whl (312 kB)\n",
            "\u001b[?25l\r\u001b[K     |█                               | 10 kB 21.4 MB/s eta 0:00:01\r\u001b[K     |██                              | 20 kB 24.8 MB/s eta 0:00:01\r\u001b[K     |███▏                            | 30 kB 29.2 MB/s eta 0:00:01\r\u001b[K     |████▏                           | 40 kB 32.3 MB/s eta 0:00:01\r\u001b[K     |█████▎                          | 51 kB 34.2 MB/s eta 0:00:01\r\u001b[K     |██████▎                         | 61 kB 36.9 MB/s eta 0:00:01\r\u001b[K     |███████▍                        | 71 kB 32.1 MB/s eta 0:00:01\r\u001b[K     |████████▍                       | 81 kB 32.9 MB/s eta 0:00:01\r\u001b[K     |█████████▍                      | 92 kB 29.8 MB/s eta 0:00:01\r\u001b[K     |██████████▌                     | 102 kB 31.4 MB/s eta 0:00:01\r\u001b[K     |███████████▌                    | 112 kB 31.4 MB/s eta 0:00:01\r\u001b[K     |████████████▋                   | 122 kB 31.4 MB/s eta 0:00:01\r\u001b[K     |█████████████▋                  | 133 kB 31.4 MB/s eta 0:00:01\r\u001b[K     |██████████████▊                 | 143 kB 31.4 MB/s eta 0:00:01\r\u001b[K     |███████████████▊                | 153 kB 31.4 MB/s eta 0:00:01\r\u001b[K     |████████████████▊               | 163 kB 31.4 MB/s eta 0:00:01\r\u001b[K     |█████████████████▉              | 174 kB 31.4 MB/s eta 0:00:01\r\u001b[K     |██████████████████▉             | 184 kB 31.4 MB/s eta 0:00:01\r\u001b[K     |████████████████████            | 194 kB 31.4 MB/s eta 0:00:01\r\u001b[K     |█████████████████████           | 204 kB 31.4 MB/s eta 0:00:01\r\u001b[K     |██████████████████████          | 215 kB 31.4 MB/s eta 0:00:01\r\u001b[K     |███████████████████████         | 225 kB 31.4 MB/s eta 0:00:01\r\u001b[K     |████████████████████████▏       | 235 kB 31.4 MB/s eta 0:00:01\r\u001b[K     |█████████████████████████▏      | 245 kB 31.4 MB/s eta 0:00:01\r\u001b[K     |██████████████████████████▏     | 256 kB 31.4 MB/s eta 0:00:01\r\u001b[K     |███████████████████████████▎    | 266 kB 31.4 MB/s eta 0:00:01\r\u001b[K     |████████████████████████████▎   | 276 kB 31.4 MB/s eta 0:00:01\r\u001b[K     |█████████████████████████████▍  | 286 kB 31.4 MB/s eta 0:00:01\r\u001b[K     |██████████████████████████████▍ | 296 kB 31.4 MB/s eta 0:00:01\r\u001b[K     |███████████████████████████████▌| 307 kB 31.4 MB/s eta 0:00:01\r\u001b[K     |████████████████████████████████| 312 kB 31.4 MB/s \n",
            "\u001b[?25hRequirement already satisfied: pyyaml in /usr/local/lib/python3.7/dist-packages (from keras==2.2.4) (3.13)\n",
            "Requirement already satisfied: scipy>=0.14 in /usr/local/lib/python3.7/dist-packages (from keras==2.2.4) (1.4.1)\n",
            "Requirement already satisfied: numpy>=1.9.1 in /usr/local/lib/python3.7/dist-packages (from keras==2.2.4) (1.19.5)\n",
            "Collecting keras-applications>=1.0.6\n",
            "  Downloading Keras_Applications-1.0.8-py3-none-any.whl (50 kB)\n",
            "\u001b[?25l\r\u001b[K     |██████▌                         | 10 kB 22.1 MB/s eta 0:00:01\r\u001b[K     |█████████████                   | 20 kB 28.1 MB/s eta 0:00:01\r\u001b[K     |███████████████████▍            | 30 kB 35.0 MB/s eta 0:00:01\r\u001b[K     |█████████████████████████▉      | 40 kB 39.7 MB/s eta 0:00:01\r\u001b[K     |████████████████████████████████| 50 kB 5.5 MB/s \n",
            "\u001b[?25hRequirement already satisfied: h5py in /usr/local/lib/python3.7/dist-packages (from keras==2.2.4) (3.1.0)\n",
            "Requirement already satisfied: six>=1.9.0 in /usr/local/lib/python3.7/dist-packages (from keras==2.2.4) (1.15.0)\n",
            "Requirement already satisfied: keras-preprocessing>=1.0.5 in /usr/local/lib/python3.7/dist-packages (from keras==2.2.4) (1.1.2)\n",
            "Requirement already satisfied: cached-property in /usr/local/lib/python3.7/dist-packages (from h5py->keras==2.2.4) (1.5.2)\n",
            "Installing collected packages: keras-applications, keras\n",
            "Successfully installed keras-2.2.4 keras-applications-1.0.8\n"
          ]
        }
      ]
    },
    {
      "cell_type": "code",
      "metadata": {
        "colab": {
          "base_uri": "https://localhost:8080/"
        },
        "id": "mxeT_o4sb6pc",
        "outputId": "3262fbda-d77c-45b5-9047-24dc92d8b6e6"
      },
      "source": [
        "!pip3 install tensorflow-gpu==1.14.0"
      ],
      "execution_count": 4,
      "outputs": [
        {
          "output_type": "stream",
          "name": "stdout",
          "text": [
            "Collecting tensorflow-gpu==1.14.0\n",
            "  Downloading tensorflow_gpu-1.14.0-cp37-cp37m-manylinux1_x86_64.whl (377.1 MB)\n",
            "\u001b[K     |████████████████████████████████| 377.1 MB 7.9 kB/s \n",
            "\u001b[?25hRequirement already satisfied: gast>=0.2.0 in /usr/local/lib/python3.7/dist-packages (from tensorflow-gpu==1.14.0) (0.4.0)\n",
            "Collecting tensorflow-estimator<1.15.0rc0,>=1.14.0rc0\n",
            "  Downloading tensorflow_estimator-1.14.0-py2.py3-none-any.whl (488 kB)\n",
            "\u001b[K     |████████████████████████████████| 488 kB 37.8 MB/s \n",
            "\u001b[?25hRequirement already satisfied: keras-applications>=1.0.6 in /usr/local/lib/python3.7/dist-packages (from tensorflow-gpu==1.14.0) (1.0.8)\n",
            "Requirement already satisfied: six>=1.10.0 in /usr/local/lib/python3.7/dist-packages (from tensorflow-gpu==1.14.0) (1.15.0)\n",
            "Requirement already satisfied: wheel>=0.26 in /usr/local/lib/python3.7/dist-packages (from tensorflow-gpu==1.14.0) (0.37.0)\n",
            "Requirement already satisfied: grpcio>=1.8.6 in /usr/local/lib/python3.7/dist-packages (from tensorflow-gpu==1.14.0) (1.39.0)\n",
            "Requirement already satisfied: termcolor>=1.1.0 in /usr/local/lib/python3.7/dist-packages (from tensorflow-gpu==1.14.0) (1.1.0)\n",
            "Requirement already satisfied: protobuf>=3.6.1 in /usr/local/lib/python3.7/dist-packages (from tensorflow-gpu==1.14.0) (3.17.3)\n",
            "Requirement already satisfied: google-pasta>=0.1.6 in /usr/local/lib/python3.7/dist-packages (from tensorflow-gpu==1.14.0) (0.2.0)\n",
            "Requirement already satisfied: keras-preprocessing>=1.0.5 in /usr/local/lib/python3.7/dist-packages (from tensorflow-gpu==1.14.0) (1.1.2)\n",
            "Requirement already satisfied: numpy<2.0,>=1.14.5 in /usr/local/lib/python3.7/dist-packages (from tensorflow-gpu==1.14.0) (1.19.5)\n",
            "Requirement already satisfied: wrapt>=1.11.1 in /usr/local/lib/python3.7/dist-packages (from tensorflow-gpu==1.14.0) (1.12.1)\n",
            "Collecting tensorboard<1.15.0,>=1.14.0\n",
            "  Downloading tensorboard-1.14.0-py3-none-any.whl (3.1 MB)\n",
            "\u001b[K     |████████████████████████████████| 3.1 MB 37.1 MB/s \n",
            "\u001b[?25hRequirement already satisfied: absl-py>=0.7.0 in /usr/local/lib/python3.7/dist-packages (from tensorflow-gpu==1.14.0) (0.12.0)\n",
            "Requirement already satisfied: astor>=0.6.0 in /usr/local/lib/python3.7/dist-packages (from tensorflow-gpu==1.14.0) (0.8.1)\n",
            "Requirement already satisfied: h5py in /usr/local/lib/python3.7/dist-packages (from keras-applications>=1.0.6->tensorflow-gpu==1.14.0) (3.1.0)\n",
            "Requirement already satisfied: werkzeug>=0.11.15 in /usr/local/lib/python3.7/dist-packages (from tensorboard<1.15.0,>=1.14.0->tensorflow-gpu==1.14.0) (1.0.1)\n",
            "Requirement already satisfied: markdown>=2.6.8 in /usr/local/lib/python3.7/dist-packages (from tensorboard<1.15.0,>=1.14.0->tensorflow-gpu==1.14.0) (3.3.4)\n",
            "Requirement already satisfied: setuptools>=41.0.0 in /usr/local/lib/python3.7/dist-packages (from tensorboard<1.15.0,>=1.14.0->tensorflow-gpu==1.14.0) (57.4.0)\n",
            "Requirement already satisfied: importlib-metadata in /usr/local/lib/python3.7/dist-packages (from markdown>=2.6.8->tensorboard<1.15.0,>=1.14.0->tensorflow-gpu==1.14.0) (4.6.4)\n",
            "Requirement already satisfied: cached-property in /usr/local/lib/python3.7/dist-packages (from h5py->keras-applications>=1.0.6->tensorflow-gpu==1.14.0) (1.5.2)\n",
            "Requirement already satisfied: zipp>=0.5 in /usr/local/lib/python3.7/dist-packages (from importlib-metadata->markdown>=2.6.8->tensorboard<1.15.0,>=1.14.0->tensorflow-gpu==1.14.0) (3.5.0)\n",
            "Requirement already satisfied: typing-extensions>=3.6.4 in /usr/local/lib/python3.7/dist-packages (from importlib-metadata->markdown>=2.6.8->tensorboard<1.15.0,>=1.14.0->tensorflow-gpu==1.14.0) (3.7.4.3)\n",
            "Installing collected packages: tensorflow-estimator, tensorboard, tensorflow-gpu\n",
            "  Attempting uninstall: tensorflow-estimator\n",
            "    Found existing installation: tensorflow-estimator 2.6.0\n",
            "    Uninstalling tensorflow-estimator-2.6.0:\n",
            "      Successfully uninstalled tensorflow-estimator-2.6.0\n",
            "  Attempting uninstall: tensorboard\n",
            "    Found existing installation: tensorboard 2.6.0\n",
            "    Uninstalling tensorboard-2.6.0:\n",
            "      Successfully uninstalled tensorboard-2.6.0\n",
            "Successfully installed tensorboard-1.14.0 tensorflow-estimator-1.14.0 tensorflow-gpu-1.14.0\n"
          ]
        }
      ]
    },
    {
      "cell_type": "code",
      "metadata": {
        "colab": {
          "base_uri": "https://localhost:8080/"
        },
        "id": "gMD6fb3_cLDa",
        "outputId": "364892c1-9251-4696-831b-e9d79d9a5f93"
      },
      "source": [
        "!pip3 install h5py==2.10.0"
      ],
      "execution_count": 5,
      "outputs": [
        {
          "output_type": "stream",
          "name": "stdout",
          "text": [
            "Collecting h5py==2.10.0\n",
            "  Downloading h5py-2.10.0-cp37-cp37m-manylinux1_x86_64.whl (2.9 MB)\n",
            "\u001b[K     |████████████████████████████████| 2.9 MB 30.4 MB/s \n",
            "\u001b[?25hRequirement already satisfied: six in /usr/local/lib/python3.7/dist-packages (from h5py==2.10.0) (1.15.0)\n",
            "Requirement already satisfied: numpy>=1.7 in /usr/local/lib/python3.7/dist-packages (from h5py==2.10.0) (1.19.5)\n",
            "Installing collected packages: h5py\n",
            "  Attempting uninstall: h5py\n",
            "    Found existing installation: h5py 3.1.0\n",
            "    Uninstalling h5py-3.1.0:\n",
            "      Successfully uninstalled h5py-3.1.0\n",
            "Successfully installed h5py-2.10.0\n"
          ]
        }
      ]
    },
    {
      "cell_type": "code",
      "metadata": {
        "colab": {
          "base_uri": "https://localhost:8080/"
        },
        "id": "ZEqhK1XdhQ2l",
        "outputId": "3df22093-c26c-41c4-e9a0-d30e9c51b2d9"
      },
      "source": [
        "import keras.backend as K\n",
        "import tensorflow as tf\n",
        "from keras import initializers, layers\n",
        "\n",
        "\n",
        "class Length(layers.Layer):\n",
        "    \"\"\"\n",
        "    Compute the length of vectors. This is used to compute a Tensor that has the same shape with y_true in margin_loss\n",
        "    inputs: shape=[dim_1, ..., dim_{n-1}, dim_n]\n",
        "    output: shape=[dim_1, ..., dim_{n-1}]\n",
        "    \"\"\"\n",
        "\n",
        "    def call(self, inputs, **kwargs):\n",
        "        return K.sqrt(K.sum(K.square(inputs), -1))\n",
        "\n",
        "    def compute_output_shape(self, input_shape):\n",
        "        return input_shape[:-1]\n",
        "\n",
        "\n",
        "class Mask(layers.Layer):\n",
        "    \"\"\"\n",
        "    Mask a Tensor with shape=[None, d1, d2] by the max value in axis=1.\n",
        "    Output shape: [None, d2]\n",
        "    \"\"\"\n",
        "\n",
        "    def call(self, inputs, **kwargs):\n",
        "        # use true label to select target capsule, shape=[batch_size, num_capsule]\n",
        "        if type(inputs) is list:  # true label is provided with shape = [batch_size, n_classes], i.e. one-hot code.\n",
        "            assert len(inputs) == 2\n",
        "            inputs, mask = inputs\n",
        "        else:  # if no true label, mask by the max length of vectors of capsules\n",
        "            x = inputs\n",
        "            # Enlarge the range of values in x to make max(new_x)=1 and others < 0\n",
        "            x = (x - K.max(x, 1, True)) / K.epsilon() + 1\n",
        "            mask = K.clip(x, 0, 1)  # the max value in x clipped to 1 and other to 0\n",
        "\n",
        "        # masked inputs, shape = [batch_size, dim_vector]\n",
        "        inputs_masked = K.batch_dot(inputs, mask, [1, 1])\n",
        "        return inputs_masked\n",
        "\n",
        "    def compute_output_shape(self, input_shape):\n",
        "        if type(input_shape[0]) is tuple:  # true label provided\n",
        "            return tuple([None, input_shape[0][-1]])\n",
        "        else:\n",
        "            return tuple([None, input_shape[-1]])\n",
        "\n",
        "\n",
        "def squash(vectors, axis=-1):\n",
        "    \"\"\"\n",
        "    The non-linear activation used in Capsule. It drives the length of a large vector to near 1 and small vector to 0\n",
        "    :param vectors: some vectors to be squashed, N-dim tensor\n",
        "    :param axis: the axis to squash\n",
        "    :return: a Tensor with same shape as input vectors\n",
        "    \"\"\"\n",
        "    s_squared_norm = K.sum(K.square(vectors), axis, keepdims=True)\n",
        "    scale = s_squared_norm / (1 + s_squared_norm) / K.sqrt(s_squared_norm)\n",
        "    return scale * vectors\n",
        "\n",
        "\n",
        "class CapsuleLayer(layers.Layer):\n",
        "    \"\"\"\n",
        "    The capsule layer. It is similar to Dense layer. Dense layer has `in_num` inputs, each is a scalar, the output of the\n",
        "    neuron from the former layer, and it has `out_num` output neurons. CapsuleLayer just expand the output of the neuron\n",
        "    from scalar to vector. So its input shape = [None, input_num_capsule, input_dim_vector] and output shape = \\\n",
        "    [None, num_capsule, dim_vector]. For Dense Layer, input_dim_vector = dim_vector = 1.\n",
        "    :param num_capsule: number of capsules in this layer\n",
        "    :param dim_vector: dimension of the output vectors of the capsules in this layer\n",
        "    :param num_routings: number of iterations for the routing algorithm\n",
        "    \"\"\"\n",
        "\n",
        "    def __init__(self, num_capsule, dim_vector, num_routing=3,\n",
        "                 kernel_initializer='glorot_uniform',\n",
        "                 bias_initializer='zeros',\n",
        "                 **kwargs):\n",
        "        super(CapsuleLayer, self).__init__(**kwargs)\n",
        "        self.num_capsule = num_capsule\n",
        "        self.dim_vector = dim_vector\n",
        "        self.num_routing = num_routing\n",
        "        self.kernel_initializer = initializers.get(kernel_initializer)\n",
        "        self.bias_initializer = initializers.get(bias_initializer)\n",
        "\n",
        "    def build(self, input_shape):\n",
        "        assert len(input_shape) >= 3, \"The input Tensor should have shape=[None, input_num_capsule, input_dim_vector]\"\n",
        "        self.input_num_capsule = input_shape[1]\n",
        "        self.input_dim_vector = input_shape[2]\n",
        "\n",
        "        # Transform matrix\n",
        "        self.W = self.add_weight(\n",
        "            shape=[self.input_num_capsule, self.num_capsule, self.input_dim_vector, self.dim_vector],\n",
        "            initializer=self.kernel_initializer,\n",
        "            name='W')\n",
        "\n",
        "        # Coupling coefficient. The redundant dimensions are just to facilitate subsequent matrix calculation.\n",
        "        self.bias = self.add_weight(shape=[1, self.input_num_capsule, self.num_capsule, 1, 1],\n",
        "                                    initializer=self.bias_initializer,\n",
        "                                    name='bias',\n",
        "                                    trainable=False)\n",
        "        self.built = True\n",
        "\n",
        "    def call(self, inputs, training=None):\n",
        "        # inputs.shape=[None, input_num_capsule, input_dim_vector]\n",
        "        # Expand dims to [None, input_num_capsule, 1, 1, input_dim_vector]\n",
        "        inputs_expand = K.expand_dims(K.expand_dims(inputs, 2), 2)\n",
        "\n",
        "        # Replicate num_capsule dimension to prepare being multiplied by W\n",
        "        # Now it has shape = [None, input_num_capsule, num_capsule, 1, input_dim_vector]\n",
        "        inputs_tiled = K.tile(inputs_expand, [1, 1, self.num_capsule, 1, 1])\n",
        "\n",
        "        \"\"\"  \n",
        "        # Compute `inputs * W` by expanding the first dim of W. More time-consuming and need batch_size.\n",
        "        # Now W has shape  = [batch_size, input_num_capsule, num_capsule, input_dim_vector, dim_vector]\n",
        "        w_tiled = K.tile(K.expand_dims(self.W, 0), [self.batch_size, 1, 1, 1, 1])\n",
        "        # Transformed vectors, inputs_hat.shape = [None, input_num_capsule, num_capsule, 1, dim_vector]\n",
        "        inputs_hat = K.batch_dot(inputs_tiled, w_tiled, [4, 3])\n",
        "        \"\"\"\n",
        "        # Compute `inputs * W` by scanning inputs_tiled on dimension 0. This is faster but requires Tensorflow.\n",
        "        # inputs_hat.shape = [None, input_num_capsule, num_capsule, 1, dim_vector]\n",
        "        inputs_hat = tf.scan(lambda ac, x: K.batch_dot(x, self.W, [3, 2]),\n",
        "                             elems=inputs_tiled,\n",
        "                             initializer=K.zeros([self.input_num_capsule, self.num_capsule, 1, self.dim_vector]))\n",
        "        \"\"\"\n",
        "        # Routing algorithm V1. Use tf.while_loop in a dynamic way.\n",
        "        def body(i, b, outputs):\n",
        "            c = tf.nn.softmax(self.bias, dim=2)  # dim=2 is the num_capsule dimension\n",
        "            outputs = squash(K.sum(c * inputs_hat, 1, keepdims=True))\n",
        "            b = b + K.sum(inputs_hat * outputs, -1, keepdims=True)\n",
        "            return [i-1, b, outputs]\n",
        "        cond = lambda i, b, inputs_hat: i > 0\n",
        "        loop_vars = [K.constant(self.num_routing), self.bias, K.sum(inputs_hat, 1, keepdims=True)]\n",
        "        _, _, outputs = tf.while_loop(cond, body, loop_vars)\n",
        "        \"\"\"\n",
        "        # Routing algorithm V2. Use iteration. V2 and V1 both work without much difference on performance\n",
        "        assert self.num_routing > 0, 'The num_routing should be > 0.'\n",
        "        for i in range(self.num_routing):\n",
        "            c = tf.nn.softmax(self.bias, dim=2)  # dim=2 is the num_capsule dimension\n",
        "            # outputs.shape=[None, 1, num_capsule, 1, dim_vector]\n",
        "            outputs = squash(K.sum(c * inputs_hat, 1, keepdims=True))\n",
        "\n",
        "            # last iteration needs not compute bias which will not be passed to the graph any more anyway.\n",
        "            if i != self.num_routing - 1:\n",
        "                # self.bias = K.update_add(self.bias, K.sum(inputs_hat * outputs, [0, -1], keepdims=True))\n",
        "                self.bias += K.sum(inputs_hat * outputs, -1, keepdims=True)\n",
        "                # tf.summary.histogram('BigBee', self.bias)  # for debugging\n",
        "        return K.reshape(outputs, [-1, self.num_capsule, self.dim_vector])\n",
        "\n",
        "    def compute_output_shape(self, input_shape):\n",
        "        return tuple([None, self.num_capsule, self.dim_vector])\n",
        "\n",
        "\n",
        "def PrimaryCap(inputs, dim_vector, n_channels, kernel_size, strides, padding, name):\n",
        "    \"\"\"\n",
        "    :param inputs: 4D tensor, shape=[None, width, height, channels]\n",
        "    :param dim_vector: the dim of the output vector of capsule\n",
        "    :param n_channels: the number of types of capsules\n",
        "    :return: output tensor, shape=[None, num_capsule, dim_vector]\n",
        "    \"\"\"\n",
        "    output = layers.Conv1D(filters=dim_vector * n_channels, kernel_size=kernel_size, strides=strides, padding=padding, name=name)(inputs)\n",
        "    outputs = layers.Reshape(target_shape=[-1, dim_vector])(output)\n",
        "    return layers.Lambda(squash)(outputs)"
      ],
      "execution_count": 6,
      "outputs": [
        {
          "output_type": "stream",
          "name": "stderr",
          "text": [
            "Using TensorFlow backend.\n",
            "/usr/local/lib/python3.7/dist-packages/tensorflow/python/framework/dtypes.py:516: FutureWarning: Passing (type, 1) or '1type' as a synonym of type is deprecated; in a future version of numpy, it will be understood as (type, (1,)) / '(1,)type'.\n",
            "  _np_qint8 = np.dtype([(\"qint8\", np.int8, 1)])\n",
            "/usr/local/lib/python3.7/dist-packages/tensorflow/python/framework/dtypes.py:517: FutureWarning: Passing (type, 1) or '1type' as a synonym of type is deprecated; in a future version of numpy, it will be understood as (type, (1,)) / '(1,)type'.\n",
            "  _np_quint8 = np.dtype([(\"quint8\", np.uint8, 1)])\n",
            "/usr/local/lib/python3.7/dist-packages/tensorflow/python/framework/dtypes.py:518: FutureWarning: Passing (type, 1) or '1type' as a synonym of type is deprecated; in a future version of numpy, it will be understood as (type, (1,)) / '(1,)type'.\n",
            "  _np_qint16 = np.dtype([(\"qint16\", np.int16, 1)])\n",
            "/usr/local/lib/python3.7/dist-packages/tensorflow/python/framework/dtypes.py:519: FutureWarning: Passing (type, 1) or '1type' as a synonym of type is deprecated; in a future version of numpy, it will be understood as (type, (1,)) / '(1,)type'.\n",
            "  _np_quint16 = np.dtype([(\"quint16\", np.uint16, 1)])\n",
            "/usr/local/lib/python3.7/dist-packages/tensorflow/python/framework/dtypes.py:520: FutureWarning: Passing (type, 1) or '1type' as a synonym of type is deprecated; in a future version of numpy, it will be understood as (type, (1,)) / '(1,)type'.\n",
            "  _np_qint32 = np.dtype([(\"qint32\", np.int32, 1)])\n",
            "/usr/local/lib/python3.7/dist-packages/tensorflow/python/framework/dtypes.py:525: FutureWarning: Passing (type, 1) or '1type' as a synonym of type is deprecated; in a future version of numpy, it will be understood as (type, (1,)) / '(1,)type'.\n",
            "  np_resource = np.dtype([(\"resource\", np.ubyte, 1)])\n",
            "/usr/local/lib/python3.7/dist-packages/tensorboard/compat/tensorflow_stub/dtypes.py:541: FutureWarning: Passing (type, 1) or '1type' as a synonym of type is deprecated; in a future version of numpy, it will be understood as (type, (1,)) / '(1,)type'.\n",
            "  _np_qint8 = np.dtype([(\"qint8\", np.int8, 1)])\n",
            "/usr/local/lib/python3.7/dist-packages/tensorboard/compat/tensorflow_stub/dtypes.py:542: FutureWarning: Passing (type, 1) or '1type' as a synonym of type is deprecated; in a future version of numpy, it will be understood as (type, (1,)) / '(1,)type'.\n",
            "  _np_quint8 = np.dtype([(\"quint8\", np.uint8, 1)])\n",
            "/usr/local/lib/python3.7/dist-packages/tensorboard/compat/tensorflow_stub/dtypes.py:543: FutureWarning: Passing (type, 1) or '1type' as a synonym of type is deprecated; in a future version of numpy, it will be understood as (type, (1,)) / '(1,)type'.\n",
            "  _np_qint16 = np.dtype([(\"qint16\", np.int16, 1)])\n",
            "/usr/local/lib/python3.7/dist-packages/tensorboard/compat/tensorflow_stub/dtypes.py:544: FutureWarning: Passing (type, 1) or '1type' as a synonym of type is deprecated; in a future version of numpy, it will be understood as (type, (1,)) / '(1,)type'.\n",
            "  _np_quint16 = np.dtype([(\"quint16\", np.uint16, 1)])\n",
            "/usr/local/lib/python3.7/dist-packages/tensorboard/compat/tensorflow_stub/dtypes.py:545: FutureWarning: Passing (type, 1) or '1type' as a synonym of type is deprecated; in a future version of numpy, it will be understood as (type, (1,)) / '(1,)type'.\n",
            "  _np_qint32 = np.dtype([(\"qint32\", np.int32, 1)])\n",
            "/usr/local/lib/python3.7/dist-packages/tensorboard/compat/tensorflow_stub/dtypes.py:550: FutureWarning: Passing (type, 1) or '1type' as a synonym of type is deprecated; in a future version of numpy, it will be understood as (type, (1,)) / '(1,)type'.\n",
            "  np_resource = np.dtype([(\"resource\", np.ubyte, 1)])\n"
          ]
        }
      ]
    },
    {
      "cell_type": "code",
      "metadata": {
        "id": "ekSKtsoZhb27"
      },
      "source": [
        "import numpy as np\n",
        "import pandas as pd\n",
        "import string"
      ],
      "execution_count": 7,
      "outputs": []
    },
    {
      "cell_type": "code",
      "metadata": {
        "id": "y5ZZUCtrhf7R"
      },
      "source": [
        "\n",
        "rng_seed=42"
      ],
      "execution_count": 8,
      "outputs": []
    },
    {
      "cell_type": "code",
      "metadata": {
        "id": "HyQInm3Rhhlt"
      },
      "source": [
        "\n",
        "# Seed the numpy RNG to get reproducible results\n",
        "np.random.seed(rng_seed)"
      ],
      "execution_count": 9,
      "outputs": []
    },
    {
      "cell_type": "code",
      "metadata": {
        "colab": {
          "base_uri": "https://localhost:8080/"
        },
        "id": "RI2U7AJ0h1X4",
        "outputId": "49aa482c-2fb3-46b1-a1a9-2489fbdfe176"
      },
      "source": [
        "!pip install biopython"
      ],
      "execution_count": 10,
      "outputs": [
        {
          "output_type": "stream",
          "name": "stdout",
          "text": [
            "Collecting biopython\n",
            "  Downloading biopython-1.79-cp37-cp37m-manylinux_2_5_x86_64.manylinux1_x86_64.whl (2.3 MB)\n",
            "\u001b[K     |████████████████████████████████| 2.3 MB 28.4 MB/s \n",
            "\u001b[?25hRequirement already satisfied: numpy in /usr/local/lib/python3.7/dist-packages (from biopython) (1.19.5)\n",
            "Installing collected packages: biopython\n",
            "Successfully installed biopython-1.79\n"
          ]
        }
      ]
    },
    {
      "cell_type": "code",
      "metadata": {
        "id": "IDsadHZKhjT4"
      },
      "source": [
        "from Bio import SeqIO"
      ],
      "execution_count": 11,
      "outputs": []
    },
    {
      "cell_type": "code",
      "metadata": {
        "id": "N-cETs8Yh5CC"
      },
      "source": [
        "from keras.preprocessing.text import Tokenizer\n",
        "from keras.preprocessing.sequence import pad_sequences\n",
        "from keras.utils.np_utils import to_categorical"
      ],
      "execution_count": 12,
      "outputs": []
    },
    {
      "cell_type": "code",
      "metadata": {
        "id": "-q4lVxV0h8Oq"
      },
      "source": [
        "\n",
        "import keras.backend as K\n",
        "from keras.models import Model, Sequential\n",
        "from keras import layers\n",
        "from keras.layers import Input, Flatten, Reshape, Maximum, BatchNormalization, Dropout, Concatenate, Activation, Lambda\n",
        "from keras.layers import Embedding, Dense, GlobalMaxPooling1D\n",
        "from keras.layers import SimpleRNN, RNN, SimpleRNNCell, GRUCell, LSTMCell, LSTM, GRU, CuDNNGRU, CuDNNLSTM,Conv1D, Bidirectional\n",
        "from keras import optimizers\n",
        "from keras import losses\n",
        "from keras import regularizers\n",
        "from keras import callbacks\n",
        "from keras.models import load_model\n",
        "\n",
        "from keras.layers import LeakyReLU, Bidirectional, Flatten, SpatialDropout1D\n",
        "# from keras.datasets import imdb\n",
        "from keras.preprocessing import sequence\n",
        "import pandas as pd\n",
        "from tensorflow.keras.preprocessing.text import Tokenizer\n",
        "from tensorflow.keras.preprocessing.sequence import pad_sequences"
      ],
      "execution_count": 13,
      "outputs": []
    },
    {
      "cell_type": "code",
      "metadata": {
        "id": "RNNXxxKniQ8N"
      },
      "source": [
        "from sklearn.model_selection import StratifiedKFold\n",
        "import sklearn.metrics as skmetrics\n",
        "import matplotlib\n",
        "import matplotlib.pyplot as plt\n",
        "import itertools"
      ],
      "execution_count": 14,
      "outputs": []
    },
    {
      "cell_type": "code",
      "metadata": {
        "colab": {
          "base_uri": "https://localhost:8080/"
        },
        "id": "WugaOD5jiThU",
        "outputId": "697fadfe-0ef0-43cc-e8b1-2aef1430a7c0"
      },
      "source": [
        "%%time\n",
        "df_PPI_yeast_dataset = pd.read_csv(\"/content/drive/MyDrive/Supplementary S1.csv\")"
      ],
      "execution_count": 15,
      "outputs": [
        {
          "output_type": "stream",
          "name": "stdout",
          "text": [
            "CPU times: user 149 ms, sys: 23 ms, total: 172 ms\n",
            "Wall time: 656 ms\n"
          ]
        }
      ]
    },
    {
      "cell_type": "code",
      "metadata": {
        "colab": {
          "base_uri": "https://localhost:8080/"
        },
        "id": "EHkDc-KaihWM",
        "outputId": "64afcdc2-39b0-47d1-882c-267a079dcbd1"
      },
      "source": [
        "%%time\n",
        "uniprot_db = SeqIO.to_dict(SeqIO.parse(\"/content/drive/MyDrive/uniprot_sprot.fasta\", \"fasta\"))"
      ],
      "execution_count": 16,
      "outputs": [
        {
          "output_type": "stream",
          "name": "stdout",
          "text": [
            "CPU times: user 10.8 s, sys: 911 ms, total: 11.7 s\n",
            "Wall time: 12.7 s\n"
          ]
        }
      ]
    },
    {
      "cell_type": "code",
      "metadata": {
        "colab": {
          "base_uri": "https://localhost:8080/"
        },
        "id": "nNkel5gxioGJ",
        "outputId": "dcaaf38f-0849-4c9b-89c3-9b369c8c947d"
      },
      "source": [
        "%%time\n",
        "uniprot_db_dict = {}\n",
        "for key in uniprot_db.keys():\n",
        "    # Since we only want to search by the code, change the dictionary keys to match our format\n",
        "    # Get the substring between the two | |\n",
        "    new_key = key[key.find('|')+1:key.rfind('|')]\n",
        "    # Also, we just want the sequence, so save it alone (instead of the full record)\n",
        "    uniprot_db_dict[new_key] = str(uniprot_db[key].seq)"
      ],
      "execution_count": 17,
      "outputs": [
        {
          "output_type": "stream",
          "name": "stdout",
          "text": [
            "CPU times: user 1.34 s, sys: 202 ms, total: 1.55 s\n",
            "Wall time: 1.55 s\n"
          ]
        }
      ]
    },
    {
      "cell_type": "code",
      "metadata": {
        "colab": {
          "base_uri": "https://localhost:8080/",
          "height": 417
        },
        "id": "p81hh3n3is9S",
        "outputId": "105ef816-232d-4ea2-8574-ec8c8ac6172d"
      },
      "source": [
        "df_PPI_yeast_dataset"
      ],
      "execution_count": 18,
      "outputs": [
        {
          "output_type": "execute_result",
          "data": {
            "text/html": [
              "<div>\n",
              "<style scoped>\n",
              "    .dataframe tbody tr th:only-of-type {\n",
              "        vertical-align: middle;\n",
              "    }\n",
              "\n",
              "    .dataframe tbody tr th {\n",
              "        vertical-align: top;\n",
              "    }\n",
              "\n",
              "    .dataframe thead th {\n",
              "        text-align: right;\n",
              "    }\n",
              "</style>\n",
              "<table border=\"1\" class=\"dataframe\">\n",
              "  <thead>\n",
              "    <tr style=\"text-align: right;\">\n",
              "      <th></th>\n",
              "      <th>proteinA</th>\n",
              "      <th>proteinB</th>\n",
              "      <th>interaction</th>\n",
              "    </tr>\n",
              "  </thead>\n",
              "  <tbody>\n",
              "    <tr>\n",
              "      <th>0</th>\n",
              "      <td>P09798</td>\n",
              "      <td>P09798</td>\n",
              "      <td>1</td>\n",
              "    </tr>\n",
              "    <tr>\n",
              "      <th>1</th>\n",
              "      <td>P38717</td>\n",
              "      <td>P06782</td>\n",
              "      <td>1</td>\n",
              "    </tr>\n",
              "    <tr>\n",
              "      <th>2</th>\n",
              "      <td>P07342</td>\n",
              "      <td>P25605</td>\n",
              "      <td>1</td>\n",
              "    </tr>\n",
              "    <tr>\n",
              "      <th>3</th>\n",
              "      <td>P15790</td>\n",
              "      <td>P38930</td>\n",
              "      <td>1</td>\n",
              "    </tr>\n",
              "    <tr>\n",
              "      <th>4</th>\n",
              "      <td>P22035</td>\n",
              "      <td>P07269</td>\n",
              "      <td>1</td>\n",
              "    </tr>\n",
              "    <tr>\n",
              "      <th>...</th>\n",
              "      <td>...</td>\n",
              "      <td>...</td>\n",
              "      <td>...</td>\n",
              "    </tr>\n",
              "    <tr>\n",
              "      <th>65846</th>\n",
              "      <td>P53184</td>\n",
              "      <td>P22855</td>\n",
              "      <td>0</td>\n",
              "    </tr>\n",
              "    <tr>\n",
              "      <th>65847</th>\n",
              "      <td>P53184</td>\n",
              "      <td>P36062</td>\n",
              "      <td>0</td>\n",
              "    </tr>\n",
              "    <tr>\n",
              "      <th>65848</th>\n",
              "      <td>P53184</td>\n",
              "      <td>Q08236</td>\n",
              "      <td>0</td>\n",
              "    </tr>\n",
              "    <tr>\n",
              "      <th>65849</th>\n",
              "      <td>P53184</td>\n",
              "      <td>Q12331</td>\n",
              "      <td>0</td>\n",
              "    </tr>\n",
              "    <tr>\n",
              "      <th>65850</th>\n",
              "      <td>P53184</td>\n",
              "      <td>Q12527</td>\n",
              "      <td>0</td>\n",
              "    </tr>\n",
              "  </tbody>\n",
              "</table>\n",
              "<p>65851 rows × 3 columns</p>\n",
              "</div>"
            ],
            "text/plain": [
              "      proteinA proteinB  interaction\n",
              "0       P09798   P09798            1\n",
              "1       P38717   P06782            1\n",
              "2       P07342   P25605            1\n",
              "3       P15790   P38930            1\n",
              "4       P22035   P07269            1\n",
              "...        ...      ...          ...\n",
              "65846   P53184   P22855            0\n",
              "65847   P53184   P36062            0\n",
              "65848   P53184   Q08236            0\n",
              "65849   P53184   Q12331            0\n",
              "65850   P53184   Q12527            0\n",
              "\n",
              "[65851 rows x 3 columns]"
            ]
          },
          "metadata": {},
          "execution_count": 18
        }
      ]
    },
    {
      "cell_type": "code",
      "metadata": {
        "id": "m3f36ltDiyzb"
      },
      "source": [
        "df_PPI_yeast_dataset_processed = df_PPI_yeast_dataset"
      ],
      "execution_count": 19,
      "outputs": []
    },
    {
      "cell_type": "code",
      "metadata": {
        "id": "8fDhD8zcizmc"
      },
      "source": [
        "df_PPI_yeast_dataset_processed = df_PPI_yeast_dataset_processed.assign(proteinA_seq = [uniprot_db_dict[prot_id] for prot_id in df_PPI_yeast_dataset_processed['proteinA'].values])"
      ],
      "execution_count": 20,
      "outputs": []
    },
    {
      "cell_type": "code",
      "metadata": {
        "id": "QsbXiKMSi1-M"
      },
      "source": [
        "df_PPI_yeast_dataset_processed = df_PPI_yeast_dataset_processed.assign(proteinB_seq = [uniprot_db_dict[prot_id] for prot_id in df_PPI_yeast_dataset_processed['proteinB'].values])"
      ],
      "execution_count": 21,
      "outputs": []
    },
    {
      "cell_type": "code",
      "metadata": {
        "id": "YvJZ6cnJi6R3"
      },
      "source": [
        "\n",
        "n_gram_len = 3\n",
        "ngram_overlap = 3"
      ],
      "execution_count": 22,
      "outputs": []
    },
    {
      "cell_type": "code",
      "metadata": {
        "id": "8o_L0CVci8LQ"
      },
      "source": [
        "def generate_ngram_list(input_seq, n, overlap_step):\n",
        "    n=1 if n<1 else n\n",
        "    overlap_step=1 if overlap_step<1 else overlap_step\n",
        "    # Reverse input\n",
        "    input_seq = input_seq[::-1]\n",
        "    output = [input_seq[ii:ii+n] for ii in np.arange(0, len(input_seq), overlap_step)]\n",
        "    while(len(output[-1]) != n):\n",
        "        output.pop()\n",
        "    # Reverse output\n",
        "    output[:] = output[::-1]\n",
        "    return output"
      ],
      "execution_count": 23,
      "outputs": []
    },
    {
      "cell_type": "code",
      "metadata": {
        "id": "CfwhhvMdjCfV"
      },
      "source": [
        "def generate_ngram_seq(input_seq, n, overlap_step):\n",
        "    ngram_list = generate_ngram_list(input_seq, n, overlap_step)\n",
        "    # Reverse each sequences as well\n",
        "    output = (''.join([' %s' % (ngram[::-1]) for ngram in ngram_list]))\n",
        "    return output"
      ],
      "execution_count": 24,
      "outputs": []
    },
    {
      "cell_type": "code",
      "metadata": {
        "id": "IiaEkWN1jfCa"
      },
      "source": [
        "def generate_ngram_dictionary(n, source_dict):\n",
        "    unique_symbols = len(source_dict)\n",
        "    unique_ngrams = unique_symbols**n\n",
        "    ngram_matrix=np.empty((unique_ngrams,n), dtype='U1')\n",
        "    \n",
        "    for ii in np.arange(n):\n",
        "        change_freq = unique_symbols**(n-ii-1)\n",
        "        symbol_idx = 0\n",
        "        for jj in np.arange(0, unique_ngrams, change_freq):\n",
        "            ngram_matrix[jj:(jj+change_freq), ii] = source_dict[symbol_idx]\n",
        "            symbol_idx+=1\n",
        "            if(symbol_idx == unique_symbols):\n",
        "                symbol_idx=0\n",
        "            \n",
        "    # Reduce the second axis\n",
        "    ngram_list = [ ''.join(symbol) for symbol in [l for l in ngram_matrix]]\n",
        "    return ngram_list"
      ],
      "execution_count": 25,
      "outputs": []
    },
    {
      "cell_type": "code",
      "metadata": {
        "colab": {
          "base_uri": "https://localhost:8080/"
        },
        "id": "0B125l9ijhZJ",
        "outputId": "95522e96-2c97-4a5e-bc2e-7600520347ec"
      },
      "source": [
        "\n",
        "%%time\n",
        "aminoacid_dictionary = []\n",
        "for seq in df_PPI_yeast_dataset_processed.proteinA_seq.values:\n",
        "    for symbol in list(seq):\n",
        "        if(not symbol in aminoacid_dictionary):\n",
        "            aminoacid_dictionary.append(symbol)"
      ],
      "execution_count": 26,
      "outputs": [
        {
          "output_type": "stream",
          "name": "stdout",
          "text": [
            "CPU times: user 10.2 s, sys: 16.3 ms, total: 10.2 s\n",
            "Wall time: 10.2 s\n"
          ]
        }
      ]
    },
    {
      "cell_type": "code",
      "metadata": {
        "colab": {
          "base_uri": "https://localhost:8080/"
        },
        "id": "JeZlV7MFjkAK",
        "outputId": "66b8a7ee-19bd-4024-cdb0-137c2be40a1c"
      },
      "source": [
        "print(len(aminoacid_dictionary), aminoacid_dictionary)"
      ],
      "execution_count": 27,
      "outputs": [
        {
          "output_type": "stream",
          "name": "stdout",
          "text": [
            "20 ['M', 'K', 'F', 'C', 'L', 'Y', 'H', 'I', 'V', 'G', 'A', 'T', 'S', 'N', 'R', 'P', 'E', 'Q', 'D', 'W']\n"
          ]
        }
      ]
    },
    {
      "cell_type": "code",
      "metadata": {
        "colab": {
          "base_uri": "https://localhost:8080/"
        },
        "id": "EfHsDWEAjncL",
        "outputId": "63482e1b-7976-4e08-f5f8-1de9f089cfbc"
      },
      "source": [
        "\n",
        "%%time\n",
        "ngram_dict = generate_ngram_dictionary(n_gram_len, aminoacid_dictionary)\n",
        "print(ngram_dict[:10])"
      ],
      "execution_count": 28,
      "outputs": [
        {
          "output_type": "stream",
          "name": "stdout",
          "text": [
            "['MMM', 'MMK', 'MMF', 'MMC', 'MML', 'MMY', 'MMH', 'MMI', 'MMV', 'MMG']\n",
            "CPU times: user 27.6 ms, sys: 112 µs, total: 27.7 ms\n",
            "Wall time: 29.7 ms\n"
          ]
        }
      ]
    },
    {
      "cell_type": "code",
      "metadata": {
        "colab": {
          "base_uri": "https://localhost:8080/"
        },
        "id": "CrEaZvr8jpRW",
        "outputId": "34aa04ae-df3f-4068-9511-15d98624a3bc"
      },
      "source": [
        "%%time\n",
        "df_PPI_yeast_dataset_processed = df_PPI_yeast_dataset_processed.assign(proteinA_ngramseq = [generate_ngram_seq(prot_seq, n_gram_len, ngram_overlap) for prot_seq in df_PPI_yeast_dataset_processed['proteinA_seq'].values])\n",
        "df_PPI_yeast_dataset_processed = df_PPI_yeast_dataset_processed.assign(proteinB_ngramseq = [generate_ngram_seq(prot_seq, n_gram_len, ngram_overlap) for prot_seq in df_PPI_yeast_dataset_processed['proteinB_seq'].values])"
      ],
      "execution_count": 29,
      "outputs": [
        {
          "output_type": "stream",
          "name": "stdout",
          "text": [
            "CPU times: user 24.6 s, sys: 1.3 s, total: 25.9 s\n",
            "Wall time: 23.9 s\n"
          ]
        }
      ]
    },
    {
      "cell_type": "code",
      "metadata": {
        "colab": {
          "base_uri": "https://localhost:8080/"
        },
        "id": "vjXkL_e1jr7R",
        "outputId": "22dc78b3-38ec-4ffa-d281-0a298b465503"
      },
      "source": [
        "%%time\n",
        "# Get all unique trigrams\n",
        "ngram_dictionary_A = np.unique([generate_ngram_list(prot_seq, n_gram_len, ngram_overlap) for prot_seq in df_PPI_yeast_dataset_processed['proteinA_seq'].values])[0]\n",
        "ngram_dictionary_B = np.unique([generate_ngram_list(prot_seq, n_gram_len, ngram_overlap) for prot_seq in df_PPI_yeast_dataset_processed['proteinB_seq'].values])[0]\n",
        "ngram_dictionary = np.unique(np.concatenate([ngram_dictionary_A, ngram_dictionary_B]))\n",
        "ngram_dictionary"
      ],
      "execution_count": 30,
      "outputs": [
        {
          "output_type": "stream",
          "name": "stderr",
          "text": [
            "/usr/local/lib/python3.7/dist-packages/numpy/core/_asarray.py:136: VisibleDeprecationWarning: Creating an ndarray from ragged nested sequences (which is a list-or-tuple of lists-or-tuples-or ndarrays with different lengths or shapes) is deprecated. If you meant to do this, you must specify 'dtype=object' when creating the ndarray\n",
            "  return array(a, dtype, copy=False, order=order, subok=True)\n"
          ]
        },
        {
          "output_type": "stream",
          "name": "stdout",
          "text": [
            "CPU times: user 25.2 s, sys: 2.26 s, total: 27.4 s\n",
            "Wall time: 25.5 s\n"
          ]
        }
      ]
    },
    {
      "cell_type": "code",
      "metadata": {
        "colab": {
          "base_uri": "https://localhost:8080/",
          "height": 806
        },
        "id": "y_qSyheqjuYo",
        "outputId": "37e13773-8b00-4f0c-b1dd-bc168ee22743"
      },
      "source": [
        "\n",
        "df_PPI_yeast_dataset_processed"
      ],
      "execution_count": 31,
      "outputs": [
        {
          "output_type": "execute_result",
          "data": {
            "text/html": [
              "<div>\n",
              "<style scoped>\n",
              "    .dataframe tbody tr th:only-of-type {\n",
              "        vertical-align: middle;\n",
              "    }\n",
              "\n",
              "    .dataframe tbody tr th {\n",
              "        vertical-align: top;\n",
              "    }\n",
              "\n",
              "    .dataframe thead th {\n",
              "        text-align: right;\n",
              "    }\n",
              "</style>\n",
              "<table border=\"1\" class=\"dataframe\">\n",
              "  <thead>\n",
              "    <tr style=\"text-align: right;\">\n",
              "      <th></th>\n",
              "      <th>proteinA</th>\n",
              "      <th>proteinB</th>\n",
              "      <th>interaction</th>\n",
              "      <th>proteinA_seq</th>\n",
              "      <th>proteinB_seq</th>\n",
              "      <th>proteinA_ngramseq</th>\n",
              "      <th>proteinB_ngramseq</th>\n",
              "    </tr>\n",
              "  </thead>\n",
              "  <tbody>\n",
              "    <tr>\n",
              "      <th>0</th>\n",
              "      <td>P09798</td>\n",
              "      <td>P09798</td>\n",
              "      <td>1</td>\n",
              "      <td>MKFCLYCCHCYIVICGKATHYYKSSKATSNLKSSNRVLMRNPMSPS...</td>\n",
              "      <td>MKFCLYCCHCYIVICGKATHYYKSSKATSNLKSSNRVLMRNPMSPS...</td>\n",
              "      <td>MKF CLY CCH CYI VIC GKA THY YKS SKA TSN LKS S...</td>\n",
              "      <td>MKF CLY CCH CYI VIC GKA THY YKS SKA TSN LKS S...</td>\n",
              "    </tr>\n",
              "    <tr>\n",
              "      <th>1</th>\n",
              "      <td>P38717</td>\n",
              "      <td>P06782</td>\n",
              "      <td>1</td>\n",
              "      <td>MSVHGRDPKKRQLRLISVAFKEASIDSPSFRASVNFFQTRVDALED...</td>\n",
              "      <td>MSSNNNTNTAPANANSSHHHHHHHHHHHHHGHGGSNSTLNNPKSSL...</td>\n",
              "      <td>VHG RDP KKR QLR LIS VAF KEA SID SPS FRA SVN F...</td>\n",
              "      <td>MSS NNN TNT APA NAN SSH HHH HHH HHH HHH GHG G...</td>\n",
              "    </tr>\n",
              "    <tr>\n",
              "      <th>2</th>\n",
              "      <td>P07342</td>\n",
              "      <td>P25605</td>\n",
              "      <td>1</td>\n",
              "      <td>MIRQSTLKNFAIKRCFQHIAYRNTPAMRSVALAQRFYSSSSRYYSA...</td>\n",
              "      <td>MLRSLLQSGHRRVVASSCATMVRCSSSSTSALAYKQMHRHATRPPL...</td>\n",
              "      <td>MIR QST LKN FAI KRC FQH IAY RNT PAM RSV ALA Q...</td>\n",
              "      <td>MLR SLL QSG HRR VVA SSC ATM VRC SSS STS ALA Y...</td>\n",
              "    </tr>\n",
              "    <tr>\n",
              "      <th>3</th>\n",
              "      <td>P15790</td>\n",
              "      <td>P38930</td>\n",
              "      <td>1</td>\n",
              "      <td>MKCRVWSEARVYTNINKQRTEEYWDYENTVIDWSTNTKDYEIENKV...</td>\n",
              "      <td>MGSRSENVGTVTREGSRVEQDDVLMDDDSDSSEYVDMWIDLFLGRK...</td>\n",
              "      <td>MKC RVW SEA RVY TNI NKQ RTE EYW DYE NTV IDW S...</td>\n",
              "      <td>MGS RSE NVG TVT REG SRV EQD DVL MDD DSD SSE Y...</td>\n",
              "    </tr>\n",
              "    <tr>\n",
              "      <th>4</th>\n",
              "      <td>P22035</td>\n",
              "      <td>P07269</td>\n",
              "      <td>1</td>\n",
              "      <td>MSNISTKDIRKSKPKRGSGFDLLEVTESLGYQTHRKNGRNSWSKDD...</td>\n",
              "      <td>MMEEFSYDHDFNTHFATDLDYLQHDQQQQQQQQHDQQHNQQQQPQP...</td>\n",
              "      <td>SNI STK DIR KSK PKR GSG FDL LEV TES LGY QTH R...</td>\n",
              "      <td>MEE FSY DHD FNT HFA TDL DYL QHD QQQ QQQ QQH D...</td>\n",
              "    </tr>\n",
              "    <tr>\n",
              "      <th>...</th>\n",
              "      <td>...</td>\n",
              "      <td>...</td>\n",
              "      <td>...</td>\n",
              "      <td>...</td>\n",
              "      <td>...</td>\n",
              "      <td>...</td>\n",
              "      <td>...</td>\n",
              "    </tr>\n",
              "    <tr>\n",
              "      <th>65846</th>\n",
              "      <td>P53184</td>\n",
              "      <td>P22855</td>\n",
              "      <td>0</td>\n",
              "      <td>MKTLIVVDMQNDFISPLGSLTVPKGEELINPISDLMQDADRDWHRI...</td>\n",
              "      <td>MSSEDIIYDPQFKPVQGIYENRLRQFIDTGGDYHDLNLPKFYDKKR...</td>\n",
              "      <td>MKT LIV VDM QND FIS PLG SLT VPK GEE LIN PIS D...</td>\n",
              "      <td>MSS EDI IYD PQF KPV QGI YEN RLR QFI DTG GDY H...</td>\n",
              "    </tr>\n",
              "    <tr>\n",
              "      <th>65847</th>\n",
              "      <td>P53184</td>\n",
              "      <td>P36062</td>\n",
              "      <td>0</td>\n",
              "      <td>MKTLIVVDMQNDFISPLGSLTVPKGEELINPISDLMQDADRDWHRI...</td>\n",
              "      <td>MNGKEVSSGSGRTQSNNNKKNNNGGSTGISHASGSPLTDGNGGNSN...</td>\n",
              "      <td>MKT LIV VDM QND FIS PLG SLT VPK GEE LIN PIS D...</td>\n",
              "      <td>GKE VSS GSG RTQ SNN NKK NNN GGS TGI SHA SGS P...</td>\n",
              "    </tr>\n",
              "    <tr>\n",
              "      <th>65848</th>\n",
              "      <td>P53184</td>\n",
              "      <td>Q08236</td>\n",
              "      <td>0</td>\n",
              "      <td>MKTLIVVDMQNDFISPLGSLTVPKGEELINPISDLMQDADRDWHRI...</td>\n",
              "      <td>MDTVTVLNELRAQFLRVCPEKDQMKRIIKPYIPVDEFNTEQCLDSS...</td>\n",
              "      <td>MKT LIV VDM QND FIS PLG SLT VPK GEE LIN PIS D...</td>\n",
              "      <td>MDT VTV LNE LRA QFL RVC PEK DQM KRI IKP YIP V...</td>\n",
              "    </tr>\n",
              "    <tr>\n",
              "      <th>65849</th>\n",
              "      <td>P53184</td>\n",
              "      <td>Q12331</td>\n",
              "      <td>0</td>\n",
              "      <td>MKTLIVVDMQNDFISPLGSLTVPKGEELINPISDLMQDADRDWHRI...</td>\n",
              "      <td>MIFNLPVSVLLYFSLIWAMEPSFVRGKNVVNLITFKDSNGKLHKRL...</td>\n",
              "      <td>MKT LIV VDM QND FIS PLG SLT VPK GEE LIN PIS D...</td>\n",
              "      <td>FNL PVS VLL YFS LIW AME PSF VRG KNV VNL ITF K...</td>\n",
              "    </tr>\n",
              "    <tr>\n",
              "      <th>65850</th>\n",
              "      <td>P53184</td>\n",
              "      <td>Q12527</td>\n",
              "      <td>0</td>\n",
              "      <td>MKTLIVVDMQNDFISPLGSLTVPKGEELINPISDLMQDADRDWHRI...</td>\n",
              "      <td>MADADEYSTAPTQQEITPLQTTATIINAISGECITTNVDFFVSLDK...</td>\n",
              "      <td>MKT LIV VDM QND FIS PLG SLT VPK GEE LIN PIS D...</td>\n",
              "      <td>DAD EYS TAP TQQ EIT PLQ TTA TII NAI SGE CIT T...</td>\n",
              "    </tr>\n",
              "  </tbody>\n",
              "</table>\n",
              "<p>65851 rows × 7 columns</p>\n",
              "</div>"
            ],
            "text/plain": [
              "      proteinA  ...                                  proteinB_ngramseq\n",
              "0       P09798  ...   MKF CLY CCH CYI VIC GKA THY YKS SKA TSN LKS S...\n",
              "1       P38717  ...   MSS NNN TNT APA NAN SSH HHH HHH HHH HHH GHG G...\n",
              "2       P07342  ...   MLR SLL QSG HRR VVA SSC ATM VRC SSS STS ALA Y...\n",
              "3       P15790  ...   MGS RSE NVG TVT REG SRV EQD DVL MDD DSD SSE Y...\n",
              "4       P22035  ...   MEE FSY DHD FNT HFA TDL DYL QHD QQQ QQQ QQH D...\n",
              "...        ...  ...                                                ...\n",
              "65846   P53184  ...   MSS EDI IYD PQF KPV QGI YEN RLR QFI DTG GDY H...\n",
              "65847   P53184  ...   GKE VSS GSG RTQ SNN NKK NNN GGS TGI SHA SGS P...\n",
              "65848   P53184  ...   MDT VTV LNE LRA QFL RVC PEK DQM KRI IKP YIP V...\n",
              "65849   P53184  ...   FNL PVS VLL YFS LIW AME PSF VRG KNV VNL ITF K...\n",
              "65850   P53184  ...   DAD EYS TAP TQQ EIT PLQ TTA TII NAI SGE CIT T...\n",
              "\n",
              "[65851 rows x 7 columns]"
            ]
          },
          "metadata": {},
          "execution_count": 31
        }
      ]
    },
    {
      "cell_type": "code",
      "metadata": {
        "id": "Zt0v8nGpj7Dr"
      },
      "source": [
        "lA = np.array([int(3*len(p)/4) for p in df_PPI_yeast_dataset_processed.proteinA_ngramseq.values])\n",
        "lB = np.array([int(3*len(p)/4) for p in df_PPI_yeast_dataset_processed.proteinB_ngramseq.values])"
      ],
      "execution_count": 32,
      "outputs": []
    },
    {
      "cell_type": "code",
      "metadata": {
        "colab": {
          "base_uri": "https://localhost:8080/"
        },
        "id": "6W2DdQUS04MX",
        "outputId": "7524e2f5-fffb-4e85-94bc-0d1665273c64"
      },
      "source": [
        "len(lA)"
      ],
      "execution_count": 69,
      "outputs": [
        {
          "output_type": "execute_result",
          "data": {
            "text/plain": [
              "65851"
            ]
          },
          "metadata": {},
          "execution_count": 69
        }
      ]
    },
    {
      "cell_type": "code",
      "metadata": {
        "colab": {
          "base_uri": "https://localhost:8080/"
        },
        "id": "uWm36GXmj-yI",
        "outputId": "a775406d-4e77-42d9-b5bd-eaeddad337f0"
      },
      "source": [
        "np.histogram(np.concatenate([lA,lB]), bins=[0,50,100,200,300,500,800,1000,1500,2000,3000,4000,5000])"
      ],
      "execution_count": 33,
      "outputs": [
        {
          "output_type": "execute_result",
          "data": {
            "text/plain": [
              "(array([    0,  2697, 15153, 20700, 37957, 30059, 11034, 10589,  2348,\n",
              "         1038,   111,    16]),\n",
              " array([   0,   50,  100,  200,  300,  500,  800, 1000, 1500, 2000, 3000,\n",
              "        4000, 5000]))"
            ]
          },
          "metadata": {},
          "execution_count": 33
        }
      ]
    },
    {
      "cell_type": "code",
      "metadata": {
        "colab": {
          "base_uri": "https://localhost:8080/"
        },
        "id": "UR9UIxyp13e-",
        "outputId": "8521747f-ad6a-4148-8d7a-afe5097f4c66"
      },
      "source": [
        "np.histogram(np.concatenate([lA,lB]), bins=15)"
      ],
      "execution_count": 70,
      "outputs": [
        {
          "output_type": "execute_result",
          "data": {
            "text/plain": [
              "(array([53404, 45888, 18841,  8728,  2697,   979,   713,   295,    30,\n",
              "           89,     0,    22,     7,     0,     9]),\n",
              " array([  51. ,  374.8,  698.6, 1022.4, 1346.2, 1670. , 1993.8, 2317.6,\n",
              "        2641.4, 2965.2, 3289. , 3612.8, 3936.6, 4260.4, 4584.2, 4908. ]))"
            ]
          },
          "metadata": {},
          "execution_count": 70
        }
      ]
    },
    {
      "cell_type": "code",
      "metadata": {
        "colab": {
          "base_uri": "https://localhost:8080/",
          "height": 592
        },
        "id": "wfvFZ46HxiM7",
        "outputId": "32acadfd-4421-43b9-9b4d-eb78c70d4243"
      },
      "source": [
        "import matplotlib.pyplot as plt\n",
        "%matplotlib inline\n",
        "fig, axs = plt.subplots(figsize=(11,10))\n",
        "\n",
        "# We can set the number of bins with the `bins` kwarg\n",
        "N, bins, patches = axs.hist(np.concatenate([lA,lB]), bins=[0,50,100,200,300,500,800,1000,1500,2000,3000,4000,5000])\n",
        "axs.set_xticks([0,1000,1500,2000,3000,4000,5000])\n",
        "\n",
        "fracs = N / N.max()\n",
        "\n",
        "# we need to normalize the data to 0..1 for the full range of the colormap\n",
        "norm = matplotlib.colors.Normalize(fracs.min(), fracs.max())\n",
        "\n",
        "# Now, we'll loop through our objects and set the color of each accordingly\n",
        "for thisfrac, thispatch in zip(fracs, patches):\n",
        "    color = plt.cm.viridis(norm(thisfrac))\n",
        "    thispatch.set_facecolor(color)"
      ],
      "execution_count": 68,
      "outputs": [
        {
          "output_type": "display_data",
          "data": {
            "image/png": "[encoded data removed]",
            "text/plain": [
              "<Figure size 792x720 with 1 Axes>"
            ]
          },
          "metadata": {
            "needs_background": "light"
          }
        }
      ]
    },
    {
      "cell_type": "code",
      "metadata": {
        "id": "7F9WqUdokBJO"
      },
      "source": [
        "\n",
        "maxlength=1000"
      ],
      "execution_count": 34,
      "outputs": []
    },
    {
      "cell_type": "code",
      "metadata": {
        "id": "VedXRAmtkC6b"
      },
      "source": [
        "source_xA = df_PPI_yeast_dataset_processed.proteinA_ngramseq\n",
        "source_xB = df_PPI_yeast_dataset_processed.proteinB_ngramseq\n",
        "num_words_dict = len(ngram_dict)"
      ],
      "execution_count": 35,
      "outputs": []
    },
    {
      "cell_type": "code",
      "metadata": {
        "colab": {
          "base_uri": "https://localhost:8080/"
        },
        "id": "gF_l2GyVkE6H",
        "outputId": "f0caa0d9-b42e-485a-a14a-f5e156f8a69d"
      },
      "source": [
        "%%time\n",
        "train_tk = Tokenizer(num_words=num_words_dict, char_level=False)\n",
        "# Fit to all the sequences (both from proteinA and proteinB)\n",
        "train_tk.fit_on_texts(np.concatenate([source_xA.values, source_xB.values], axis=0))"
      ],
      "execution_count": 36,
      "outputs": [
        {
          "output_type": "stream",
          "name": "stdout",
          "text": [
            "CPU times: user 16.5 s, sys: 1.89 ms, total: 16.5 s\n",
            "Wall time: 16.6 s\n"
          ]
        }
      ]
    },
    {
      "cell_type": "code",
      "metadata": {
        "colab": {
          "base_uri": "https://localhost:8080/"
        },
        "id": "DwmZ8PzSkHYO",
        "outputId": "1b2469bd-10b7-40fc-fc71-6b62a0fb0c2d"
      },
      "source": [
        "\n",
        "np.arange(1,6)"
      ],
      "execution_count": 37,
      "outputs": [
        {
          "output_type": "execute_result",
          "data": {
            "text/plain": [
              "array([1, 2, 3, 4, 5])"
            ]
          },
          "metadata": {},
          "execution_count": 37
        }
      ]
    },
    {
      "cell_type": "code",
      "metadata": {
        "colab": {
          "base_uri": "https://localhost:8080/"
        },
        "id": "9DXC0XThkJwM",
        "outputId": "e0106724-5ae9-4e45-846a-4b481ca6fdfe"
      },
      "source": [
        "pad_sequences([np.arange(1,6)],maxlen=10, padding='pre', truncating='pre')"
      ],
      "execution_count": 38,
      "outputs": [
        {
          "output_type": "execute_result",
          "data": {
            "text/plain": [
              "array([[0, 0, 0, 0, 0, 1, 2, 3, 4, 5]], dtype=int32)"
            ]
          },
          "metadata": {},
          "execution_count": 38
        }
      ]
    },
    {
      "cell_type": "code",
      "metadata": {
        "colab": {
          "base_uri": "https://localhost:8080/"
        },
        "id": "Uok9td17kNPG",
        "outputId": "38192815-12c4-4dbc-b134-bce52b0c615f"
      },
      "source": [
        "\n",
        "np.arange(1,16)"
      ],
      "execution_count": 39,
      "outputs": [
        {
          "output_type": "execute_result",
          "data": {
            "text/plain": [
              "array([ 1,  2,  3,  4,  5,  6,  7,  8,  9, 10, 11, 12, 13, 14, 15])"
            ]
          },
          "metadata": {},
          "execution_count": 39
        }
      ]
    },
    {
      "cell_type": "code",
      "metadata": {
        "colab": {
          "base_uri": "https://localhost:8080/"
        },
        "id": "7uqDgoQakOvk",
        "outputId": "8593681e-68ff-45c0-8fd2-9991f17821a5"
      },
      "source": [
        "pad_sequences([np.arange(1,16)],maxlen=10, padding='pre', truncating='pre')"
      ],
      "execution_count": 40,
      "outputs": [
        {
          "output_type": "execute_result",
          "data": {
            "text/plain": [
              "array([[ 6,  7,  8,  9, 10, 11, 12, 13, 14, 15]], dtype=int32)"
            ]
          },
          "metadata": {},
          "execution_count": 40
        }
      ]
    },
    {
      "cell_type": "code",
      "metadata": {
        "id": "KV6ghFmCkQhU"
      },
      "source": [
        "def preprocess_data(data_A, data_B, tokenizer, maxlen = maxlength):\n",
        "    # Tokenize the input\n",
        "    # Get the sequences of codes (numbers representing a letter)\n",
        "    seq_A = tokenizer.texts_to_sequences(data_A)\n",
        "    seq_B = tokenizer.texts_to_sequences(data_B)\n",
        "    # Pad the sequences to the max length\n",
        "    padded_seq_A = pad_sequences(seq_A, maxlen=maxlen, padding='pre', truncating='pre')\n",
        "    padded_seq_B = pad_sequences(seq_B, maxlen=maxlen, padding='pre', truncating='pre')\n",
        "    \n",
        "    return padded_seq_A, padded_seq_B"
      ],
      "execution_count": 41,
      "outputs": []
    },
    {
      "cell_type": "code",
      "metadata": {
        "colab": {
          "base_uri": "https://localhost:8080/"
        },
        "id": "W20YdjmokTNM",
        "outputId": "a0716d90-1b28-4465-db34-9f4e8b7ac061"
      },
      "source": [
        "\n",
        "%%time\n",
        "# Use the function to preprocess the data from the data source of choice\n",
        "valid_xA, valid_xB = preprocess_data(source_xA.values, source_xB.values, train_tk, maxlength)\n",
        "valid_label = df_PPI_yeast_dataset_processed.interaction.values"
      ],
      "execution_count": 42,
      "outputs": [
        {
          "output_type": "stream",
          "name": "stdout",
          "text": [
            "CPU times: user 16.1 s, sys: 490 ms, total: 16.6 s\n",
            "Wall time: 16.5 s\n"
          ]
        }
      ]
    },
    {
      "cell_type": "code",
      "metadata": {
        "id": "JWQ_4UT-kVee"
      },
      "source": [
        "\n",
        "# Parameters\n",
        "nb_epochs = 5\n",
        "b_size = 128\n",
        "init_lr = 0.001\n",
        "val_split = 0.1\n",
        "\n",
        "\n",
        "embedding_output_dim = 512\n",
        "drop_rate = 0.2\n",
        "weight_decay = wd = 0.0001\n",
        "do_order_decorrelation = False"
      ],
      "execution_count": 43,
      "outputs": []
    },
    {
      "cell_type": "code",
      "metadata": {
        "id": "yRboYqKHllN4"
      },
      "source": [
        "def fc_block(input_tensor, features,name, activation_f='relu', wd=0.0001):\n",
        "    x = Conv1D(filters=256, kernel_size=9, strides=1, padding='valid', activation='relu', name='conv1'+name)(input_tensor)\n",
        "    # x = SpatialDropout1D(rate_drop_dense)(x)\n",
        "    x = Dropout(0.5)(x)\n",
        "    primary_caps = PrimaryCap(x, dim_vector=8, n_channels=32, kernel_size=9, strides=2, padding='valid', name=\"primary_caps\"+name)\n",
        "    \n",
        "    return primary_caps"
      ],
      "execution_count": 44,
      "outputs": []
    },
    {
      "cell_type": "code",
      "metadata": {
        "id": "5DoH9hKSll-a"
      },
      "source": [
        "def recurrent_block(input_tensor, recurrent_layer, features, return_sequences=False, wd=0.0001):\n",
        "    output = input_tensor\n",
        "    output =LSTM(units=features, \n",
        "                        #kernel_regularizer=regularizers.l2(wd), \n",
        "                        #recurrent_regularizer=regularizers.l2(wd), \n",
        "                        #activity_regularizer=regularizers.l2(wd), \n",
        "                        return_sequences=return_sequences)(output)\n",
        "    output = BatchNormalization(axis=1)(output)\n",
        "    \n",
        "    return output"
      ],
      "execution_count": 45,
      "outputs": []
    },
    {
      "cell_type": "code",
      "metadata": {
        "id": "yTIEzR6bln4_"
      },
      "source": [
        "def sequence_feat_extractor(input_tensor, recurrent_layer, return_sequences=False, wd=0.0001):\n",
        "    output = input_tensor\n",
        "    output = recurrent_block(output, recurrent_layer, 64, return_sequences=return_sequences)\n",
        "    return output"
      ],
      "execution_count": 46,
      "outputs": []
    },
    {
      "cell_type": "code",
      "metadata": {
        "id": "g76rJuQulp28"
      },
      "source": [
        "def branch_extractor(input_tensor, dropout_rate=0.5):\n",
        "    output = input_tensor\n",
        "    output = sequence_feat_extractor(output, LSTM, return_sequences=True)\n",
        "    # output = fc_block(output, 64, activation_f='elu')\n",
        "    output = Dropout(dropout_rate)(output)\n",
        "    return output"
      ],
      "execution_count": 47,
      "outputs": []
    },
    {
      "cell_type": "code",
      "metadata": {
        "id": "4Zftt91qknXS"
      },
      "source": [
        "def NN(input_dict_nwords):\n",
        "    input_A = Input(batch_shape=(None, maxlength))\n",
        "    input_B = Input(batch_shape=(None, maxlength))\n",
        "    \n",
        "    shared_embedding = Embedding(input_dim = input_dict_nwords, \n",
        "                         output_dim = embedding_output_dim, \n",
        "                         input_length=maxlength\n",
        "                         , embeddings_regularizer=regularizers.l2(wd)\n",
        "                        )\n",
        "    # Process branch A\n",
        "    output_A = input_A\n",
        "    output_A = shared_embedding(output_A)\n",
        "    output_A = BatchNormalization(axis=1)(output_A)\n",
        "    output_A = branch_extractor(output_A)\n",
        "\n",
        "    output_A = fc_block(output_A, 512, activation_f='relu', name=\"A\")\n",
        "    \n",
        "    # Process branch B\n",
        "    output_B = input_B\n",
        "    output_B = shared_embedding(output_B)\n",
        "    output_B = BatchNormalization(axis=1)(output_B)\n",
        "    output_B = branch_extractor(output_B)\n",
        "\n",
        "    output_B = fc_block(output_B, 512, activation_f='relu', name=\"B\")\n",
        "    \n",
        "    # Merge branches\n",
        "    output = Concatenate(axis=1)([output_A, output_B])\n",
        "    # Process merged branch\n",
        "    \n",
        "    \n",
        "    # Output layer (binary)\n",
        "    # output = Dense(units=2\n",
        "    #                , activation='softmax'\n",
        "    #                , use_bias=True\n",
        "    #                , kernel_initializer='he_normal'\n",
        "    #                , kernel_regularizer=regularizers.l2(wd)\n",
        "    #                , bias_regularizer=regularizers.l2(wd)\n",
        "    #               )(output)\n",
        "\n",
        "    category_caps = CapsuleLayer(num_capsule=2, dim_vector=16, num_routing=3, name='category_caps')(output)\n",
        "    out_caps = Length(name='out_caps')(category_caps)\n",
        "    \n",
        "    model = Model([input_A, input_B], outputs=out_caps)\n",
        "    \n",
        "    return model\n"
      ],
      "execution_count": 48,
      "outputs": []
    },
    {
      "cell_type": "code",
      "metadata": {
        "colab": {
          "base_uri": "https://localhost:8080/"
        },
        "id": "Oy4lFYwSmrVK",
        "outputId": "a5c89884-94ff-497a-8993-a8c0202ab992"
      },
      "source": [
        "\n",
        "NN(num_words_dict).summary()"
      ],
      "execution_count": 49,
      "outputs": [
        {
          "output_type": "stream",
          "name": "stdout",
          "text": [
            "WARNING:tensorflow:From /usr/local/lib/python3.7/dist-packages/keras/backend/tensorflow_backend.py:74: The name tf.get_default_graph is deprecated. Please use tf.compat.v1.get_default_graph instead.\n",
            "\n",
            "WARNING:tensorflow:From /usr/local/lib/python3.7/dist-packages/keras/backend/tensorflow_backend.py:517: The name tf.placeholder is deprecated. Please use tf.compat.v1.placeholder instead.\n",
            "\n",
            "WARNING:tensorflow:From /usr/local/lib/python3.7/dist-packages/keras/backend/tensorflow_backend.py:4138: The name tf.random_uniform is deprecated. Please use tf.random.uniform instead.\n",
            "\n",
            "WARNING:tensorflow:From /usr/local/lib/python3.7/dist-packages/keras/backend/tensorflow_backend.py:133: The name tf.placeholder_with_default is deprecated. Please use tf.compat.v1.placeholder_with_default instead.\n",
            "\n",
            "WARNING:tensorflow:From /usr/local/lib/python3.7/dist-packages/keras/backend/tensorflow_backend.py:3445: calling dropout (from tensorflow.python.ops.nn_ops) with keep_prob is deprecated and will be removed in a future version.\n",
            "Instructions for updating:\n",
            "Please use `rate` instead of `keep_prob`. Rate should be set to `rate = 1 - keep_prob`.\n",
            "WARNING:tensorflow:From <ipython-input-6-2fbe51974bde>:135: calling softmax (from tensorflow.python.ops.nn_ops) with dim is deprecated and will be removed in a future version.\n",
            "Instructions for updating:\n",
            "dim is deprecated, use axis instead\n",
            "WARNING:tensorflow:Variable += will be deprecated. Use variable.assign_add if you want assignment to the variable value or 'x = x + y' if you want a new python Tensor object.\n",
            "__________________________________________________________________________________________________\n",
            "Layer (type)                    Output Shape         Param #     Connected to                     \n",
            "==================================================================================================\n",
            "input_1 (InputLayer)            (None, 1000)         0                                            \n",
            "__________________________________________________________________________________________________\n",
            "input_2 (InputLayer)            (None, 1000)         0                                            \n",
            "__________________________________________________________________________________________________\n",
            "embedding_1 (Embedding)         (None, 1000, 512)    4096000     input_1[0][0]                    \n",
            "                                                                 input_2[0][0]                    \n",
            "__________________________________________________________________________________________________\n",
            "batch_normalization_1 (BatchNor (None, 1000, 512)    4000        embedding_1[0][0]                \n",
            "__________________________________________________________________________________________________\n",
            "batch_normalization_3 (BatchNor (None, 1000, 512)    4000        embedding_1[1][0]                \n",
            "__________________________________________________________________________________________________\n",
            "lstm_1 (LSTM)                   (None, 1000, 64)     147712      batch_normalization_1[0][0]      \n",
            "__________________________________________________________________________________________________\n",
            "lstm_2 (LSTM)                   (None, 1000, 64)     147712      batch_normalization_3[0][0]      \n",
            "__________________________________________________________________________________________________\n",
            "batch_normalization_2 (BatchNor (None, 1000, 64)     4000        lstm_1[0][0]                     \n",
            "__________________________________________________________________________________________________\n",
            "batch_normalization_4 (BatchNor (None, 1000, 64)     4000        lstm_2[0][0]                     \n",
            "__________________________________________________________________________________________________\n",
            "dropout_1 (Dropout)             (None, 1000, 64)     0           batch_normalization_2[0][0]      \n",
            "__________________________________________________________________________________________________\n",
            "dropout_3 (Dropout)             (None, 1000, 64)     0           batch_normalization_4[0][0]      \n",
            "__________________________________________________________________________________________________\n",
            "conv1A (Conv1D)                 (None, 992, 256)     147712      dropout_1[0][0]                  \n",
            "__________________________________________________________________________________________________\n",
            "conv1B (Conv1D)                 (None, 992, 256)     147712      dropout_3[0][0]                  \n",
            "__________________________________________________________________________________________________\n",
            "dropout_2 (Dropout)             (None, 992, 256)     0           conv1A[0][0]                     \n",
            "__________________________________________________________________________________________________\n",
            "dropout_4 (Dropout)             (None, 992, 256)     0           conv1B[0][0]                     \n",
            "__________________________________________________________________________________________________\n",
            "primary_capsA (Conv1D)          (None, 492, 256)     590080      dropout_2[0][0]                  \n",
            "__________________________________________________________________________________________________\n",
            "primary_capsB (Conv1D)          (None, 492, 256)     590080      dropout_4[0][0]                  \n",
            "__________________________________________________________________________________________________\n",
            "reshape_1 (Reshape)             (None, 15744, 8)     0           primary_capsA[0][0]              \n",
            "__________________________________________________________________________________________________\n",
            "reshape_2 (Reshape)             (None, 15744, 8)     0           primary_capsB[0][0]              \n",
            "__________________________________________________________________________________________________\n",
            "lambda_1 (Lambda)               (None, 15744, 8)     0           reshape_1[0][0]                  \n",
            "__________________________________________________________________________________________________\n",
            "lambda_2 (Lambda)               (None, 15744, 8)     0           reshape_2[0][0]                  \n",
            "__________________________________________________________________________________________________\n",
            "concatenate_1 (Concatenate)     (None, 31488, 8)     0           lambda_1[0][0]                   \n",
            "                                                                 lambda_2[0][0]                   \n",
            "__________________________________________________________________________________________________\n",
            "category_caps (CapsuleLayer)    (None, 2, 16)        8123904     concatenate_1[0][0]              \n",
            "__________________________________________________________________________________________________\n",
            "out_caps (Length)               (None, 2)            0           category_caps[0][0]              \n",
            "==================================================================================================\n",
            "Total params: 14,006,912\n",
            "Trainable params: 13,935,936\n",
            "Non-trainable params: 70,976\n",
            "__________________________________________________________________________________________________\n"
          ]
        }
      ]
    },
    {
      "cell_type": "code",
      "metadata": {
        "id": "uMTq1wcanZWg"
      },
      "source": [
        "def decorrelate_order(input_A, input_B, input_labels, random_seed = None):\n",
        "    out_A = input_A\n",
        "    out_B = input_B\n",
        "    out_labels = input_labels\n",
        "    # Shuffle the data horizontally (swap some protein pairs to decorrelate the positioning)\n",
        "    # This will be done by shuffling the data vertically, then exchanging the second half of each vector\n",
        "    # Shuffle the data\n",
        "    indices_shuffled = np.random.permutation(out_labels.shape[0])\n",
        "    out_A = out_A[indices_shuffled]\n",
        "    out_B = out_B[indices_shuffled]\n",
        "    out_labels = out_labels[indices_shuffled]\n",
        "\n",
        "    # Exchange the second half of the samples\n",
        "    # Labels stay unchanged\n",
        "    tmp_A = out_A.copy()\n",
        "    half_index = int(out_A.shape[0]/2)\n",
        "    out_A = np.concatenate([out_A[:half_index], out_B[half_index:]], axis=0)\n",
        "    out_B = np.concatenate([out_B[:half_index], tmp_A[half_index:]], axis=0)\n",
        "    del tmp_A\n",
        "    \n",
        "    # Shuffle the data again\n",
        "    indices_shuffled = np.random.permutation(out_labels.shape[0])\n",
        "    out_A = out_A[indices_shuffled]\n",
        "    out_B = out_B[indices_shuffled]\n",
        "    out_labels = out_labels[indices_shuffled]\n",
        "    \n",
        "    return out_A, out_B, out_labels"
      ],
      "execution_count": 44,
      "outputs": []
    },
    {
      "cell_type": "code",
      "metadata": {
        "id": "mxMSikv8oPmN"
      },
      "source": [
        "def generate_dset(input_A, input_B, input_labels, decorrelate=True, random_seed = None):\n",
        "    \n",
        "    positive_mask = (valid_label > 0)\n",
        "    negative_mask = ~positive_mask\n",
        "    \n",
        "    positive_indices = np.array(np.nonzero(positive_mask)[0])\n",
        "    last_positive = np.amax(positive_indices)\n",
        "\n",
        "    n_positives = last_positive+1\n",
        "    '''\n",
        "    # Get the negative indices from the mask\n",
        "    negative_indices = np.array(np.nonzero(negative_mask)[0])\n",
        "    # Shuffle them using the random seed\n",
        "    negative_indices = np.random.RandomState(seed=random_seed).permutation(negative_indices)\n",
        "\n",
        "    # Keep the first to match the positive indices\n",
        "    negative_indices = negative_indices[:n_positives]\n",
        "    '''\n",
        "    # Shuffle the negative indices and keep the first n_positives to replicate their selection\n",
        "    negative_indices = np.array(np.nonzero(negative_mask)[0])\n",
        "    negative_indices = negative_indices[np.random.RandomState(seed=random_seed).permutation(negative_indices.shape[0])]\n",
        "    negative_indices = negative_indices[:n_positives]\n",
        "    \n",
        "    # Now, keep all the positives and the negatives indicated by negative_indices\n",
        "    dset_xA = np.concatenate([input_A[positive_indices], input_A[negative_indices]], axis=0)\n",
        "    dset_xB = np.concatenate([input_B[positive_indices], input_B[negative_indices]], axis=0)\n",
        "    dset_labels = np.concatenate([input_labels[positive_indices], input_labels[negative_indices]], axis=0)\n",
        "    \n",
        "    if(decorrelate):\n",
        "        dset_xA, dset_xB, dset_labels = decorrelate_order(dset_xA, dset_xB, dset_labels)\n",
        "    \n",
        "    return dset_xA, dset_xB, dset_labels"
      ],
      "execution_count": 45,
      "outputs": []
    },
    {
      "cell_type": "code",
      "metadata": {
        "id": "A4g3VzUqoTTn"
      },
      "source": [
        "# Parameters\n",
        "nb_epochs = 10\n",
        "b_size = 128\n",
        "init_lr = 0.001\n",
        "val_split = 0.1\n",
        "\n",
        "\n",
        "embedding_output_dim = 512\n",
        "drop_rate = 0.2\n",
        "weight_decay = wd = 0.0001\n",
        "do_order_decorrelation = False"
      ],
      "execution_count": 46,
      "outputs": []
    },
    {
      "cell_type": "code",
      "metadata": {
        "id": "LGA4THihFYW6"
      },
      "source": [
        "dset_ii_xA, dset_ii_xB, dset_ii_tY = generate_dset(valid_xA,\n",
        "                                                       valid_xB,\n",
        "                                                       valid_label,\n",
        "                                                       decorrelate=do_order_decorrelation,\n",
        "                                                       random_seed=0)"
      ],
      "execution_count": 47,
      "outputs": []
    },
    {
      "cell_type": "code",
      "metadata": {
        "id": "f-7jCBs7vJ6o"
      },
      "source": [
        "shuffled_indices = np.random.RandomState(seed=0).permutation(dset_ii_tY.shape[0])\n",
        "dset_ii_xA = dset_ii_xA[shuffled_indices]\n",
        "dset_ii_xB = dset_ii_xB[shuffled_indices]\n",
        "dset_ii_tY = dset_ii_tY[shuffled_indices]\n",
        "\n",
        "split_index = int(0.75 * dset_ii_tY.shape[0])\n",
        "# Up to the test split index, the test samples\n",
        "test_xA = dset_ii_xA[split_index:]\n",
        "test_xB = dset_ii_xB[split_index:]\n",
        "test_tY = dset_ii_tY[split_index:]\n",
        "\n",
        "# From the test split index to the end, the training samples\n",
        "train_xA = dset_ii_xA[:split_index]\n",
        "train_xB = dset_ii_xB[:split_index]\n",
        "train_tY = dset_ii_tY[:split_index]\n",
        "\n",
        "# Get an extra small validation set from the training set (90%). This will be used to stop the training\n",
        "val_split = int(train_tY.shape[0] * 0.9)\n",
        "val_xA = train_xA[val_split:]\n",
        "val_xB = train_xB[val_split:]\n",
        "val_tY = train_tY[val_split:]\n",
        "\n",
        "train_xA = train_xA[:val_split]\n",
        "train_xB = train_xB[:val_split]\n",
        "train_tY = train_tY[:val_split]"
      ],
      "execution_count": 49,
      "outputs": []
    },
    {
      "cell_type": "code",
      "metadata": {
        "colab": {
          "base_uri": "https://localhost:8080/"
        },
        "id": "VPE2UqDtvP5C",
        "outputId": "ae7aa18d-46eb-4a71-fa7f-117dab544b2f"
      },
      "source": [
        "print(len([x for x in train_tY if x==0]))\n",
        "print(len([x for x in train_tY if x==1]))"
      ],
      "execution_count": 50,
      "outputs": [
        {
          "output_type": "stream",
          "name": "stdout",
          "text": [
            "11685\n",
            "11611\n"
          ]
        }
      ]
    },
    {
      "cell_type": "code",
      "metadata": {
        "colab": {
          "base_uri": "https://localhost:8080/"
        },
        "id": "LxZqjjFkvUyk",
        "outputId": "e47b5795-7e8f-41c5-c0b0-1697762d2457"
      },
      "source": [
        "print(len([x for x in val_tY if x==0]))\n",
        "print(len([x for x in val_tY if x==1]))"
      ],
      "execution_count": 51,
      "outputs": [
        {
          "output_type": "stream",
          "name": "stdout",
          "text": [
            "1299\n",
            "1290\n"
          ]
        }
      ]
    },
    {
      "cell_type": "code",
      "metadata": {
        "colab": {
          "base_uri": "https://localhost:8080/"
        },
        "id": "6f_s2tJTvZdX",
        "outputId": "d5e4d906-5fbb-4607-ea9e-e62ead69a8b7"
      },
      "source": [
        "print(len([x for x in test_tY if x==0]))\n",
        "print(len([x for x in test_tY if x==1]))"
      ],
      "execution_count": 52,
      "outputs": [
        {
          "output_type": "stream",
          "name": "stdout",
          "text": [
            "4273\n",
            "4356\n"
          ]
        }
      ]
    },
    {
      "cell_type": "code",
      "metadata": {
        "colab": {
          "base_uri": "https://localhost:8080/"
        },
        "id": "T1Y9qKMhFcHx",
        "outputId": "0d7af883-fd99-4b81-e102-b359cc28ea2e"
      },
      "source": [
        "dset_ii_tY"
      ],
      "execution_count": 54,
      "outputs": [
        {
          "output_type": "execute_result",
          "data": {
            "text/plain": [
              "array([1, 1, 1, ..., 0, 0, 0])"
            ]
          },
          "metadata": {},
          "execution_count": 54
        }
      ]
    },
    {
      "cell_type": "code",
      "metadata": {
        "colab": {
          "base_uri": "https://localhost:8080/"
        },
        "id": "D7dJ_EPiGQkK",
        "outputId": "a7b6e17c-973c-4f86-e84f-4a8eb42a059a"
      },
      "source": [
        "print(len(dset_ii_tY))"
      ],
      "execution_count": 58,
      "outputs": [
        {
          "output_type": "stream",
          "name": "stdout",
          "text": [
            "34514\n"
          ]
        }
      ]
    },
    {
      "cell_type": "code",
      "metadata": {
        "colab": {
          "base_uri": "https://localhost:8080/"
        },
        "id": "QQOY31WeGea1",
        "outputId": "e277ee49-e937-413d-e0ce-a93546c62f84"
      },
      "source": [
        "print(len([x for x in dset_ii_tY if x==0]))"
      ],
      "execution_count": 62,
      "outputs": [
        {
          "output_type": "stream",
          "name": "stdout",
          "text": [
            "17257\n"
          ]
        }
      ]
    },
    {
      "cell_type": "code",
      "metadata": {
        "colab": {
          "base_uri": "https://localhost:8080/"
        },
        "id": "4cNq07xYG-43",
        "outputId": "913a887f-7ddb-4608-8dad-00c6086ece2d"
      },
      "source": [
        "print(len([x for x in dset_ii_tY if x==1]))"
      ],
      "execution_count": 63,
      "outputs": [
        {
          "output_type": "stream",
          "name": "stdout",
          "text": [
            "17257\n"
          ]
        }
      ]
    },
    {
      "cell_type": "code",
      "metadata": {
        "id": "cZ-GZ6IphoJb"
      },
      "source": [
        "#Next Cell - 0 to 4"
      ],
      "execution_count": null,
      "outputs": []
    },
    {
      "cell_type": "code",
      "metadata": {
        "colab": {
          "base_uri": "https://localhost:8080/"
        },
        "id": "RRnVjsP-ofhA",
        "outputId": "ceea7cad-2209-42a1-9ec2-9246881b27c5"
      },
      "source": [
        "%%time\n",
        "iteration=0\n",
        "model_list = []\n",
        "results_list_0 = []\n",
        "np.random.seed(rng_seed)\n",
        "\n",
        "# Training/testing\n",
        "# Change the repetitions parameter to 30 to replicate the paper results\n",
        "repetitions = 1\n",
        "\n",
        "for iteration in np.arange(repetitions):\n",
        "    np.random.seed(iteration)\n",
        "    print(\"Iteration:\", iteration)\n",
        "    # Callbacks\n",
        "    cb = []\n",
        "    cb.append(callbacks.ReduceLROnPlateau(monitor='val_loss', patience=0, factor=0.1, min_lr=0.00001,verbose=1))\n",
        "    cb.append(callbacks.EarlyStopping(monitor='val_loss', min_delta=0, patience=3, verbose=1, mode='auto'))\n",
        "    cb.append(callbacks.ModelCheckpoint(\n",
        "        filepath='/content/drive/MyDrive/PPI_ModelCheckPoints/model_cerevisiae_dset_%d_best_val_acc.hdf5' % (iteration),\n",
        "       save_weights_only=True,\n",
        "    monitor='val_accuracy'))\n",
        "    \n",
        "    dset_ii_xA, dset_ii_xB, dset_ii_tY = generate_dset(valid_xA,\n",
        "                                                       valid_xB,\n",
        "                                                       valid_label,\n",
        "                                                       decorrelate=do_order_decorrelation,\n",
        "                                                       random_seed=iteration)\n",
        "    \n",
        "    # Now shuffle\n",
        "    shuffled_indices = np.random.RandomState(seed=iteration).permutation(dset_ii_tY.shape[0])\n",
        "    dset_ii_xA = dset_ii_xA[shuffled_indices]\n",
        "    dset_ii_xB = dset_ii_xB[shuffled_indices]\n",
        "    dset_ii_tY = dset_ii_tY[shuffled_indices]\n",
        "    \n",
        "    split_index = int(0.75 * dset_ii_tY.shape[0])\n",
        "    # Up to the test split index, the test samples\n",
        "    test_xA = dset_ii_xA[split_index:]\n",
        "    test_xB = dset_ii_xB[split_index:]\n",
        "    test_tY = dset_ii_tY[split_index:]\n",
        "    \n",
        "    # From the test split index to the end, the training samples\n",
        "    train_xA = dset_ii_xA[:split_index]\n",
        "    train_xB = dset_ii_xB[:split_index]\n",
        "    train_tY = dset_ii_tY[:split_index]\n",
        "    \n",
        "    # Get an extra small validation set from the training set (90%). This will be used to stop the training\n",
        "    val_split = int(train_tY.shape[0] * 0.9)\n",
        "    val_xA = train_xA[val_split:]\n",
        "    val_xB = train_xB[val_split:]\n",
        "    val_tY = train_tY[val_split:]\n",
        "    \n",
        "    train_xA = train_xA[:val_split]\n",
        "    train_xB = train_xB[:val_split]\n",
        "    train_tY = train_tY[:val_split]\n",
        "\n",
        "    # Train the model\n",
        "    K.clear_session()\n",
        "    model_ii = NN(num_words_dict)\n",
        "    model_ii.compile(loss='binary_crossentropy',\n",
        "                  optimizer=optimizers.RMSprop(lr=init_lr), \n",
        "                  metrics=['accuracy'])\n",
        "    model_ii.load_weights('/content/drive/MyDrive/PPI_ModelCheckPoints/model_cerevisiae_dset_%d_best_val_acc.hdf5' % (iteration))\n",
        "    model_ii.fit(x=[train_xA, train_xB],\n",
        "          y=to_categorical(train_tY, 2), \n",
        "          batch_size=b_size,\n",
        "          epochs=nb_epochs,\n",
        "          verbose=1,\n",
        "          validation_data=([val_xA, val_xB], to_categorical(val_tY, 2)),\n",
        "          callbacks = cb,\n",
        "          shuffle=True)\n",
        "    \n",
        "    # serialize weights to HDF5\n",
        "    model_ii.save_weights(\"/content/drive/MyDrive/final_data/PPI_Capsnet_15.h5\")\n",
        "    \n",
        "    # results_list_0.append(evaluate_dset(test_xA, test_xB, test_tY, model_ii))\n",
        "    # Save the scores for comparisons\n",
        "#     pY = model_ii.predict([test_xA, test_xB], batch_size=b_size)\n",
        "#     tY = test_tY\n",
        "#     np.save(file=\"result_comparison_wilcoxon/mymethod_pred_score_iter_%d\"%iteration ,arr=pY)\n",
        "#     np.save(file=\"result_comparison_wilcoxon/mymethod_true_score_iter_%d\"%iteration ,arr=tY)"
      ],
      "execution_count": null,
      "outputs": [
        {
          "output_type": "stream",
          "name": "stdout",
          "text": [
            "Iteration: 0\n",
            "WARNING:tensorflow:From /usr/local/lib/python3.7/dist-packages/keras/backend/tensorflow_backend.py:95: The name tf.reset_default_graph is deprecated. Please use tf.compat.v1.reset_default_graph instead.\n",
            "\n",
            "WARNING:tensorflow:From /usr/local/lib/python3.7/dist-packages/keras/optimizers.py:790: The name tf.train.Optimizer is deprecated. Please use tf.compat.v1.train.Optimizer instead.\n",
            "\n",
            "WARNING:tensorflow:From /usr/local/lib/python3.7/dist-packages/tensorflow/python/ops/nn_impl.py:180: add_dispatch_support.<locals>.wrapper (from tensorflow.python.ops.array_ops) is deprecated and will be removed in a future version.\n",
            "Instructions for updating:\n",
            "Use tf.where in 2.0, which has the same broadcast rule as np.where\n",
            "Train on 23296 samples, validate on 2589 samples\n",
            "Epoch 1/15\n",
            "23296/23296 [==============================] - 1051s 45ms/step - loss: 1.6155 - acc: 0.6616 - val_loss: 0.5101 - val_acc: 0.8272\n",
            "Epoch 2/15\n",
            "23296/23296 [==============================] - 1042s 45ms/step - loss: 0.4682 - acc: 0.8544 - val_loss: 0.4400 - val_acc: 0.8584\n",
            "Epoch 3/15\n",
            "23296/23296 [==============================] - 1044s 45ms/step - loss: 0.3970 - acc: 0.8793 - val_loss: 0.4224 - val_acc: 0.8677\n",
            "Epoch 4/15\n",
            "23296/23296 [==============================] - 1046s 45ms/step - loss: 0.3541 - acc: 0.8964 - val_loss: 0.3919 - val_acc: 0.8762\n",
            "Epoch 5/15\n",
            "23168/23296 [============================>.] - ETA: 5s - loss: 0.3288 - acc: 0.9060 "
          ]
        }
      ]
    },
    {
      "cell_type": "code",
      "metadata": {
        "colab": {
          "base_uri": "https://localhost:8080/",
          "height": 1000
        },
        "id": "SrNH6MWZeWca",
        "outputId": "b088aa4d-69ec-4e99-d7b1-bba6f9e245ad"
      },
      "source": [
        "%%time\n",
        "iteration=0\n",
        "model_list = []\n",
        "results_list_0 = []\n",
        "np.random.seed(rng_seed)\n",
        "\n",
        "# Training/testing\n",
        "# Change the repetitions parameter to 30 to replicate the paper results\n",
        "repetitions = 1\n",
        "\n",
        "for iteration in np.arange(repetitions):\n",
        "    np.random.seed(iteration)\n",
        "    print(\"Iteration:\", iteration)\n",
        "    # Callbacks\n",
        "    cb = []\n",
        "    cb.append(callbacks.ReduceLROnPlateau(monitor='val_loss', patience=0, factor=0.1, min_lr=0.00001,verbose=1))\n",
        "    cb.append(callbacks.EarlyStopping(monitor='val_loss', min_delta=0, patience=3, verbose=1, mode='auto'))\n",
        "    cb.append(callbacks.ModelCheckpoint(\n",
        "        filepath='/content/drive/MyDrive/PPI_ModelCheckPoints/model_cerevisiae_dset_%d_best_val_acc.hdf5' % (iteration),\n",
        "       save_weights_only=True,\n",
        "    monitor='val_accuracy'))\n",
        "    \n",
        "    dset_ii_xA, dset_ii_xB, dset_ii_tY = generate_dset(valid_xA,\n",
        "                                                       valid_xB,\n",
        "                                                       valid_label,\n",
        "                                                       decorrelate=do_order_decorrelation,\n",
        "                                                       random_seed=iteration)\n",
        "    \n",
        "    # Now shuffle\n",
        "    shuffled_indices = np.random.RandomState(seed=iteration).permutation(dset_ii_tY.shape[0])\n",
        "    dset_ii_xA = dset_ii_xA[shuffled_indices]\n",
        "    dset_ii_xB = dset_ii_xB[shuffled_indices]\n",
        "    dset_ii_tY = dset_ii_tY[shuffled_indices]\n",
        "    \n",
        "    split_index = int(0.75 * dset_ii_tY.shape[0])\n",
        "    # Up to the test split index, the test samples\n",
        "    test_xA = dset_ii_xA[split_index:]\n",
        "    test_xB = dset_ii_xB[split_index:]\n",
        "    test_tY = dset_ii_tY[split_index:]\n",
        "    \n",
        "    # From the test split index to the end, the training samples\n",
        "    train_xA = dset_ii_xA[:split_index]\n",
        "    train_xB = dset_ii_xB[:split_index]\n",
        "    train_tY = dset_ii_tY[:split_index]\n",
        "    \n",
        "    # Get an extra small validation set from the training set (90%). This will be used to stop the training\n",
        "    val_split = int(train_tY.shape[0] * 0.9)\n",
        "    val_xA = train_xA[val_split:]\n",
        "    val_xB = train_xB[val_split:]\n",
        "    val_tY = train_tY[val_split:]\n",
        "    \n",
        "    train_xA = train_xA[:val_split]\n",
        "    train_xB = train_xB[:val_split]\n",
        "    train_tY = train_tY[:val_split]\n",
        "\n",
        "    # Train the model\n",
        "    K.clear_session()\n",
        "    model_ii = NN(num_words_dict)\n",
        "    model_ii.compile(loss='binary_crossentropy',\n",
        "                  optimizer=optimizers.RMSprop(lr=init_lr), \n",
        "                  metrics=['accuracy'])\n",
        "    model_ii.load_weights('/content/drive/MyDrive/PPI_ModelCheckPoints/model_cerevisiae_dset_%d_best_val_acc.hdf5' % (iteration))\n",
        "    model_ii.fit(x=[train_xA, train_xB],\n",
        "          y=to_categorical(train_tY, 2), \n",
        "          batch_size=b_size,\n",
        "          epochs=nb_epochs,\n",
        "          verbose=1,\n",
        "          validation_data=([val_xA, val_xB], to_categorical(val_tY, 2)),\n",
        "          callbacks = cb,\n",
        "          shuffle=True)\n",
        "    \n",
        "    # serialize weights to HDF5\n",
        "    model_ii.save_weights(\"/content/drive/MyDrive/PPI_Capsnet_15.h5\")\n",
        "    \n",
        "    # results_list_0.append(evaluate_dset(test_xA, test_xB, test_tY, model_ii))\n",
        "    # Save the scores for comparisons\n",
        "#     pY = model_ii.predict([test_xA, test_xB], batch_size=b_size)\n",
        "#     tY = test_tY\n",
        "#     np.save(file=\"result_comparison_wilcoxon/mymethod_pred_score_iter_%d\"%iteration ,arr=pY)\n",
        "#     np.save(file=\"result_comparison_wilcoxon/mymethod_true_score_iter_%d\"%iteration ,arr=tY)"
      ],
      "execution_count": null,
      "outputs": [
        {
          "output_type": "stream",
          "name": "stdout",
          "text": [
            "Iteration: 0\n",
            "WARNING:tensorflow:From /usr/local/lib/python3.7/dist-packages/keras/backend/tensorflow_backend.py:95: The name tf.reset_default_graph is deprecated. Please use tf.compat.v1.reset_default_graph instead.\n",
            "\n",
            "WARNING:tensorflow:From /usr/local/lib/python3.7/dist-packages/keras/optimizers.py:790: The name tf.train.Optimizer is deprecated. Please use tf.compat.v1.train.Optimizer instead.\n",
            "\n",
            "WARNING:tensorflow:From /usr/local/lib/python3.7/dist-packages/tensorflow/python/ops/nn_impl.py:180: add_dispatch_support.<locals>.wrapper (from tensorflow.python.ops.array_ops) is deprecated and will be removed in a future version.\n",
            "Instructions for updating:\n",
            "Use tf.where in 2.0, which has the same broadcast rule as np.where\n",
            "Train on 23296 samples, validate on 2589 samples\n",
            "Epoch 1/10\n",
            "23296/23296 [==============================] - 1087s 47ms/step - loss: 0.3290 - acc: 0.9014 - val_loss: 0.3815 - val_acc: 0.8826\n",
            "Epoch 2/10\n",
            "23296/23296 [==============================] - 1070s 46ms/step - loss: 0.3010 - acc: 0.9125 - val_loss: 0.3679 - val_acc: 0.8822\n",
            "Epoch 3/10\n",
            "23296/23296 [==============================] - 1067s 46ms/step - loss: 0.2960 - acc: 0.9134 - val_loss: 0.3582 - val_acc: 0.8864\n",
            "Epoch 4/10\n",
            "23296/23296 [==============================] - 1067s 46ms/step - loss: 0.2868 - acc: 0.9161 - val_loss: 0.3598 - val_acc: 0.8849\n",
            "\n",
            "Epoch 00004: ReduceLROnPlateau reducing learning rate to 0.00010000000474974513.\n",
            "Epoch 5/10\n",
            "23296/23296 [==============================] - 1068s 46ms/step - loss: 0.2431 - acc: 0.9324 - val_loss: 0.3505 - val_acc: 0.8888\n",
            "Epoch 6/10\n",
            "23296/23296 [==============================] - 1067s 46ms/step - loss: 0.2325 - acc: 0.9340 - val_loss: 0.3436 - val_acc: 0.8903\n",
            "Epoch 7/10\n",
            "23296/23296 [==============================] - 1062s 46ms/step - loss: 0.2220 - acc: 0.9362 - val_loss: 0.3435 - val_acc: 0.8919\n",
            "Epoch 8/10\n",
            "23296/23296 [==============================] - 1071s 46ms/step - loss: 0.2160 - acc: 0.9372 - val_loss: 0.3390 - val_acc: 0.8911\n",
            "Epoch 9/10\n",
            "23296/23296 [==============================] - 1085s 47ms/step - loss: 0.2101 - acc: 0.9383 - val_loss: 0.3319 - val_acc: 0.8957\n",
            "Epoch 10/10\n",
            "23296/23296 [==============================] - 1083s 46ms/step - loss: 0.2048 - acc: 0.9398 - val_loss: 0.3325 - val_acc: 0.8932\n",
            "\n",
            "Epoch 00010: ReduceLROnPlateau reducing learning rate to 1.0000000474974514e-05.\n"
          ]
        },
        {
          "output_type": "error",
          "ename": "OSError",
          "evalue": "ignored",
          "traceback": [
            "\u001b[0;31m---------------------------------------------------------------------------\u001b[0m",
            "\u001b[0;31mOSError\u001b[0m                                   Traceback (most recent call last)",
            "\u001b[0;32m<ipython-input-53-75ac2530e7d4>\u001b[0m in \u001b[0;36m<module>\u001b[0;34m()\u001b[0m\n\u001b[0;32m----> 1\u001b[0;31m \u001b[0mget_ipython\u001b[0m\u001b[0;34m(\u001b[0m\u001b[0;34m)\u001b[0m\u001b[0;34m.\u001b[0m\u001b[0mrun_cell_magic\u001b[0m\u001b[0;34m(\u001b[0m\u001b[0;34m'time'\u001b[0m\u001b[0;34m,\u001b[0m \u001b[0;34m''\u001b[0m\u001b[0;34m,\u001b[0m \u001b[0;34m'iteration=0\\nmodel_list = []\\nresults_list_0 = []\\nnp.random.seed(rng_seed)\\n\\n# Training/testing\\n# Change the repetitions parameter to 30 to replicate the paper results\\nrepetitions = 1\\n\\nfor iteration in np.arange(repetitions):\\n    np.random.seed(iteration)\\n    print(\"Iteration:\", iteration)\\n    # Callbacks\\n    cb = []\\n    cb.append(callbacks.ReduceLROnPlateau(monitor=\\'val_loss\\', patience=0, factor=0.1, min_lr=0.00001,verbose=1))\\n    cb.append(callbacks.EarlyStopping(monitor=\\'val_loss\\', min_delta=0, patience=3, verbose=1, mode=\\'auto\\'))\\n    cb.append(callbacks.ModelCheckpoint(\\n        filepath=\\'/content/drive/MyDrive/PPI_ModelCheckPoints/model_cerevisiae_dset_%d_best_val_acc.hdf5\\' % (iteration),\\n       save_weights_only=True,\\n    monitor=\\'val_accuracy\\'))\\n    \\n    dset_ii_xA, dset_ii_xB, dset_ii_tY = generate_dset(valid_xA,\\n                                                       valid_xB,\\n                                                       valid_label,\\n                                                       decorrelate=do_order_decorrelation,\\n                                                       random_seed=iteration)\\n    \\n    # Now shuffle\\n    shuffled_indices = np.random.RandomState(seed=iteration).permutation(dset_ii_tY.shape[0])\\n    dset_ii_xA = dset_ii_xA[shuffle...\n\u001b[0m",
            "\u001b[0;32m/usr/local/lib/python3.7/dist-packages/IPython/core/interactiveshell.py\u001b[0m in \u001b[0;36mrun_cell_magic\u001b[0;34m(self, magic_name, line, cell)\u001b[0m\n\u001b[1;32m   2115\u001b[0m             \u001b[0mmagic_arg_s\u001b[0m \u001b[0;34m=\u001b[0m \u001b[0mself\u001b[0m\u001b[0;34m.\u001b[0m\u001b[0mvar_expand\u001b[0m\u001b[0;34m(\u001b[0m\u001b[0mline\u001b[0m\u001b[0;34m,\u001b[0m \u001b[0mstack_depth\u001b[0m\u001b[0;34m)\u001b[0m\u001b[0;34m\u001b[0m\u001b[0;34m\u001b[0m\u001b[0m\n\u001b[1;32m   2116\u001b[0m             \u001b[0;32mwith\u001b[0m \u001b[0mself\u001b[0m\u001b[0;34m.\u001b[0m\u001b[0mbuiltin_trap\u001b[0m\u001b[0;34m:\u001b[0m\u001b[0;34m\u001b[0m\u001b[0;34m\u001b[0m\u001b[0m\n\u001b[0;32m-> 2117\u001b[0;31m                 \u001b[0mresult\u001b[0m \u001b[0;34m=\u001b[0m \u001b[0mfn\u001b[0m\u001b[0;34m(\u001b[0m\u001b[0mmagic_arg_s\u001b[0m\u001b[0;34m,\u001b[0m \u001b[0mcell\u001b[0m\u001b[0;34m)\u001b[0m\u001b[0;34m\u001b[0m\u001b[0;34m\u001b[0m\u001b[0m\n\u001b[0m\u001b[1;32m   2118\u001b[0m             \u001b[0;32mreturn\u001b[0m \u001b[0mresult\u001b[0m\u001b[0;34m\u001b[0m\u001b[0;34m\u001b[0m\u001b[0m\n\u001b[1;32m   2119\u001b[0m \u001b[0;34m\u001b[0m\u001b[0m\n",
            "\u001b[0;32m<decorator-gen-53>\u001b[0m in \u001b[0;36mtime\u001b[0;34m(self, line, cell, local_ns)\u001b[0m\n",
            "\u001b[0;32m/usr/local/lib/python3.7/dist-packages/IPython/core/magic.py\u001b[0m in \u001b[0;36m<lambda>\u001b[0;34m(f, *a, **k)\u001b[0m\n\u001b[1;32m    186\u001b[0m     \u001b[0;31m# but it's overkill for just that one bit of state.\u001b[0m\u001b[0;34m\u001b[0m\u001b[0;34m\u001b[0m\u001b[0;34m\u001b[0m\u001b[0m\n\u001b[1;32m    187\u001b[0m     \u001b[0;32mdef\u001b[0m \u001b[0mmagic_deco\u001b[0m\u001b[0;34m(\u001b[0m\u001b[0marg\u001b[0m\u001b[0;34m)\u001b[0m\u001b[0;34m:\u001b[0m\u001b[0;34m\u001b[0m\u001b[0;34m\u001b[0m\u001b[0m\n\u001b[0;32m--> 188\u001b[0;31m         \u001b[0mcall\u001b[0m \u001b[0;34m=\u001b[0m \u001b[0;32mlambda\u001b[0m \u001b[0mf\u001b[0m\u001b[0;34m,\u001b[0m \u001b[0;34m*\u001b[0m\u001b[0ma\u001b[0m\u001b[0;34m,\u001b[0m \u001b[0;34m**\u001b[0m\u001b[0mk\u001b[0m\u001b[0;34m:\u001b[0m \u001b[0mf\u001b[0m\u001b[0;34m(\u001b[0m\u001b[0;34m*\u001b[0m\u001b[0ma\u001b[0m\u001b[0;34m,\u001b[0m \u001b[0;34m**\u001b[0m\u001b[0mk\u001b[0m\u001b[0;34m)\u001b[0m\u001b[0;34m\u001b[0m\u001b[0;34m\u001b[0m\u001b[0m\n\u001b[0m\u001b[1;32m    189\u001b[0m \u001b[0;34m\u001b[0m\u001b[0m\n\u001b[1;32m    190\u001b[0m         \u001b[0;32mif\u001b[0m \u001b[0mcallable\u001b[0m\u001b[0;34m(\u001b[0m\u001b[0marg\u001b[0m\u001b[0;34m)\u001b[0m\u001b[0;34m:\u001b[0m\u001b[0;34m\u001b[0m\u001b[0;34m\u001b[0m\u001b[0m\n",
            "\u001b[0;32m/usr/local/lib/python3.7/dist-packages/IPython/core/magics/execution.py\u001b[0m in \u001b[0;36mtime\u001b[0;34m(self, line, cell, local_ns)\u001b[0m\n\u001b[1;32m   1191\u001b[0m         \u001b[0;32melse\u001b[0m\u001b[0;34m:\u001b[0m\u001b[0;34m\u001b[0m\u001b[0;34m\u001b[0m\u001b[0m\n\u001b[1;32m   1192\u001b[0m             \u001b[0mst\u001b[0m \u001b[0;34m=\u001b[0m \u001b[0mclock2\u001b[0m\u001b[0;34m(\u001b[0m\u001b[0;34m)\u001b[0m\u001b[0;34m\u001b[0m\u001b[0;34m\u001b[0m\u001b[0m\n\u001b[0;32m-> 1193\u001b[0;31m             \u001b[0mexec\u001b[0m\u001b[0;34m(\u001b[0m\u001b[0mcode\u001b[0m\u001b[0;34m,\u001b[0m \u001b[0mglob\u001b[0m\u001b[0;34m,\u001b[0m \u001b[0mlocal_ns\u001b[0m\u001b[0;34m)\u001b[0m\u001b[0;34m\u001b[0m\u001b[0;34m\u001b[0m\u001b[0m\n\u001b[0m\u001b[1;32m   1194\u001b[0m             \u001b[0mend\u001b[0m \u001b[0;34m=\u001b[0m \u001b[0mclock2\u001b[0m\u001b[0;34m(\u001b[0m\u001b[0;34m)\u001b[0m\u001b[0;34m\u001b[0m\u001b[0;34m\u001b[0m\u001b[0m\n\u001b[1;32m   1195\u001b[0m             \u001b[0mout\u001b[0m \u001b[0;34m=\u001b[0m \u001b[0;32mNone\u001b[0m\u001b[0;34m\u001b[0m\u001b[0;34m\u001b[0m\u001b[0m\n",
            "\u001b[0;32m<timed exec>\u001b[0m in \u001b[0;36m<module>\u001b[0;34m()\u001b[0m\n",
            "\u001b[0;32m/usr/local/lib/python3.7/dist-packages/keras/engine/network.py\u001b[0m in \u001b[0;36msave_weights\u001b[0;34m(self, filepath, overwrite)\u001b[0m\n\u001b[1;32m   1118\u001b[0m             \u001b[0;32mif\u001b[0m \u001b[0;32mnot\u001b[0m \u001b[0mproceed\u001b[0m\u001b[0;34m:\u001b[0m\u001b[0;34m\u001b[0m\u001b[0;34m\u001b[0m\u001b[0m\n\u001b[1;32m   1119\u001b[0m                 \u001b[0;32mreturn\u001b[0m\u001b[0;34m\u001b[0m\u001b[0;34m\u001b[0m\u001b[0m\n\u001b[0;32m-> 1120\u001b[0;31m         \u001b[0;32mwith\u001b[0m \u001b[0mh5py\u001b[0m\u001b[0;34m.\u001b[0m\u001b[0mFile\u001b[0m\u001b[0;34m(\u001b[0m\u001b[0mfilepath\u001b[0m\u001b[0;34m,\u001b[0m \u001b[0;34m'w'\u001b[0m\u001b[0;34m)\u001b[0m \u001b[0;32mas\u001b[0m \u001b[0mf\u001b[0m\u001b[0;34m:\u001b[0m\u001b[0;34m\u001b[0m\u001b[0;34m\u001b[0m\u001b[0m\n\u001b[0m\u001b[1;32m   1121\u001b[0m             \u001b[0msaving\u001b[0m\u001b[0;34m.\u001b[0m\u001b[0msave_weights_to_hdf5_group\u001b[0m\u001b[0;34m(\u001b[0m\u001b[0mf\u001b[0m\u001b[0;34m,\u001b[0m \u001b[0mself\u001b[0m\u001b[0;34m.\u001b[0m\u001b[0mlayers\u001b[0m\u001b[0;34m)\u001b[0m\u001b[0;34m\u001b[0m\u001b[0;34m\u001b[0m\u001b[0m\n\u001b[1;32m   1122\u001b[0m             \u001b[0mf\u001b[0m\u001b[0;34m.\u001b[0m\u001b[0mflush\u001b[0m\u001b[0;34m(\u001b[0m\u001b[0;34m)\u001b[0m\u001b[0;34m\u001b[0m\u001b[0;34m\u001b[0m\u001b[0m\n",
            "\u001b[0;32m/usr/local/lib/python3.7/dist-packages/h5py/_hl/files.py\u001b[0m in \u001b[0;36m__init__\u001b[0;34m(self, name, mode, driver, libver, userblock_size, swmr, rdcc_nslots, rdcc_nbytes, rdcc_w0, track_order, **kwds)\u001b[0m\n\u001b[1;32m    406\u001b[0m                 fid = make_fid(name, mode, userblock_size,\n\u001b[1;32m    407\u001b[0m                                \u001b[0mfapl\u001b[0m\u001b[0;34m,\u001b[0m \u001b[0mfcpl\u001b[0m\u001b[0;34m=\u001b[0m\u001b[0mmake_fcpl\u001b[0m\u001b[0;34m(\u001b[0m\u001b[0mtrack_order\u001b[0m\u001b[0;34m=\u001b[0m\u001b[0mtrack_order\u001b[0m\u001b[0;34m)\u001b[0m\u001b[0;34m,\u001b[0m\u001b[0;34m\u001b[0m\u001b[0;34m\u001b[0m\u001b[0m\n\u001b[0;32m--> 408\u001b[0;31m                                swmr=swmr)\n\u001b[0m\u001b[1;32m    409\u001b[0m \u001b[0;34m\u001b[0m\u001b[0m\n\u001b[1;32m    410\u001b[0m             \u001b[0;32mif\u001b[0m \u001b[0misinstance\u001b[0m\u001b[0;34m(\u001b[0m\u001b[0mlibver\u001b[0m\u001b[0;34m,\u001b[0m \u001b[0mtuple\u001b[0m\u001b[0;34m)\u001b[0m\u001b[0;34m:\u001b[0m\u001b[0;34m\u001b[0m\u001b[0;34m\u001b[0m\u001b[0m\n",
            "\u001b[0;32m/usr/local/lib/python3.7/dist-packages/h5py/_hl/files.py\u001b[0m in \u001b[0;36mmake_fid\u001b[0;34m(name, mode, userblock_size, fapl, fcpl, swmr)\u001b[0m\n\u001b[1;32m    177\u001b[0m         \u001b[0mfid\u001b[0m \u001b[0;34m=\u001b[0m \u001b[0mh5f\u001b[0m\u001b[0;34m.\u001b[0m\u001b[0mcreate\u001b[0m\u001b[0;34m(\u001b[0m\u001b[0mname\u001b[0m\u001b[0;34m,\u001b[0m \u001b[0mh5f\u001b[0m\u001b[0;34m.\u001b[0m\u001b[0mACC_EXCL\u001b[0m\u001b[0;34m,\u001b[0m \u001b[0mfapl\u001b[0m\u001b[0;34m=\u001b[0m\u001b[0mfapl\u001b[0m\u001b[0;34m,\u001b[0m \u001b[0mfcpl\u001b[0m\u001b[0;34m=\u001b[0m\u001b[0mfcpl\u001b[0m\u001b[0;34m)\u001b[0m\u001b[0;34m\u001b[0m\u001b[0;34m\u001b[0m\u001b[0m\n\u001b[1;32m    178\u001b[0m     \u001b[0;32melif\u001b[0m \u001b[0mmode\u001b[0m \u001b[0;34m==\u001b[0m \u001b[0;34m'w'\u001b[0m\u001b[0;34m:\u001b[0m\u001b[0;34m\u001b[0m\u001b[0;34m\u001b[0m\u001b[0m\n\u001b[0;32m--> 179\u001b[0;31m         \u001b[0mfid\u001b[0m \u001b[0;34m=\u001b[0m \u001b[0mh5f\u001b[0m\u001b[0;34m.\u001b[0m\u001b[0mcreate\u001b[0m\u001b[0;34m(\u001b[0m\u001b[0mname\u001b[0m\u001b[0;34m,\u001b[0m \u001b[0mh5f\u001b[0m\u001b[0;34m.\u001b[0m\u001b[0mACC_TRUNC\u001b[0m\u001b[0;34m,\u001b[0m \u001b[0mfapl\u001b[0m\u001b[0;34m=\u001b[0m\u001b[0mfapl\u001b[0m\u001b[0;34m,\u001b[0m \u001b[0mfcpl\u001b[0m\u001b[0;34m=\u001b[0m\u001b[0mfcpl\u001b[0m\u001b[0;34m)\u001b[0m\u001b[0;34m\u001b[0m\u001b[0;34m\u001b[0m\u001b[0m\n\u001b[0m\u001b[1;32m    180\u001b[0m     \u001b[0;32melif\u001b[0m \u001b[0mmode\u001b[0m \u001b[0;34m==\u001b[0m \u001b[0;34m'a'\u001b[0m\u001b[0;34m:\u001b[0m\u001b[0;34m\u001b[0m\u001b[0;34m\u001b[0m\u001b[0m\n\u001b[1;32m    181\u001b[0m         \u001b[0;31m# Open in append mode (read/write).\u001b[0m\u001b[0;34m\u001b[0m\u001b[0;34m\u001b[0m\u001b[0;34m\u001b[0m\u001b[0m\n",
            "\u001b[0;32mh5py/_objects.pyx\u001b[0m in \u001b[0;36mh5py._objects.with_phil.wrapper\u001b[0;34m()\u001b[0m\n",
            "\u001b[0;32mh5py/_objects.pyx\u001b[0m in \u001b[0;36mh5py._objects.with_phil.wrapper\u001b[0;34m()\u001b[0m\n",
            "\u001b[0;32mh5py/h5f.pyx\u001b[0m in \u001b[0;36mh5py.h5f.create\u001b[0;34m()\u001b[0m\n",
            "\u001b[0;31mOSError\u001b[0m: Unable to create file (unable to open file: name = '/content/drive/MyDrive/final_data/PPI_Capsnet_15.h5', errno = 2, error message = 'No such file or directory', flags = 13, o_flags = 242)"
          ]
        }
      ]
    },
    {
      "cell_type": "code",
      "metadata": {
        "id": "AT2FXbmcLS2m"
      },
      "source": [
        "model_ii.save_weights(\"/content/drive/MyDrive/PPI_Capsnet_15.h5\")"
      ],
      "execution_count": null,
      "outputs": []
    },
    {
      "cell_type": "code",
      "metadata": {
        "colab": {
          "base_uri": "https://localhost:8080/"
        },
        "id": "rcJisYTHLX3g",
        "outputId": "5632a3d4-192f-4a0e-b0ac-c36045fb25c7"
      },
      "source": [
        "cb = []\n",
        "cb.append(callbacks.ReduceLROnPlateau(monitor='val_loss', patience=0, factor=0.1, min_lr=0.00001,verbose=1))\n",
        "cb.append(callbacks.EarlyStopping(monitor='val_loss', min_delta=0, patience=3, verbose=1, mode='auto'))\n",
        "cb.append(callbacks.ModelCheckpoint(\n",
        "    filepath='/content/drive/MyDrive/PPI_ModelCheckPoints/model_cerevisiae_dset_%d_best_val_acc.hdf5' % (1),\n",
        "    save_weights_only=True,\n",
        "monitor='val_accuracy'))\n",
        "model_ii.fit(x=[train_xA, train_xB],\n",
        "          y=to_categorical(train_tY, 2), \n",
        "          batch_size=b_size,\n",
        "          epochs=6,\n",
        "          verbose=1,\n",
        "          validation_data=([val_xA, val_xB], to_categorical(val_tY, 2)),\n",
        "          callbacks = cb,\n",
        "          shuffle=True)\n",
        "model_ii.save_weights(\"/content/drive/MyDrive/PPI_Capsnet_20.h5\")"
      ],
      "execution_count": null,
      "outputs": [
        {
          "output_type": "stream",
          "name": "stdout",
          "text": [
            "Train on 23296 samples, validate on 2589 samples\n",
            "Epoch 1/6\n",
            "23296/23296 [==============================] - 1077s 46ms/step - loss: 0.1954 - acc: 0.9424 - val_loss: 0.3317 - val_acc: 0.8938\n",
            "Epoch 2/6\n",
            "23296/23296 [==============================] - 1072s 46ms/step - loss: 0.1948 - acc: 0.9420 - val_loss: 0.3310 - val_acc: 0.8940\n",
            "Epoch 3/6\n",
            "23296/23296 [==============================] - 1073s 46ms/step - loss: 0.1946 - acc: 0.9426 - val_loss: 0.3312 - val_acc: 0.8944\n",
            "\n",
            "Epoch 00003: ReduceLROnPlateau reducing learning rate to 1e-05.\n",
            "Epoch 4/6\n",
            "23296/23296 [==============================] - 1074s 46ms/step - loss: 0.1928 - acc: 0.9428 - val_loss: 0.3299 - val_acc: 0.8946\n",
            "Epoch 5/6\n",
            "23296/23296 [==============================] - 1073s 46ms/step - loss: 0.1924 - acc: 0.9424 - val_loss: 0.3296 - val_acc: 0.8947\n",
            "Epoch 6/6\n",
            "23296/23296 [==============================] - 1075s 46ms/step - loss: 0.1921 - acc: 0.9429 - val_loss: 0.3291 - val_acc: 0.8949\n"
          ]
        }
      ]
    },
    {
      "cell_type": "code",
      "metadata": {
        "id": "iWB-zasDkcfy"
      },
      "source": [
        "%matplotlib inline\n",
        "\n",
        "np.set_printoptions(precision=2)\n",
        "\n",
        "def plot_confusion_matrix(cm, classes,\n",
        "                          normalize=False,\n",
        "                          title='Confusion matrix',\n",
        "                          cmap=plt.cm.Blues):\n",
        "    \"\"\"\n",
        "    This function prints and plots the confusion matrix.\n",
        "    Normalization can be applied by setting `normalize=True`.\n",
        "    \"\"\"\n",
        "    if normalize:\n",
        "        cm = cm.astype('float') / cm.sum(axis=1)[:, np.newaxis]\n",
        "        print(\"Normalized confusion matrix\")\n",
        "    else:\n",
        "        print('Confusion matrix, without normalization')\n",
        "\n",
        "    print(cm)\n",
        "\n",
        "    plt.imshow(cm, interpolation='nearest', cmap=cmap)\n",
        "    plt.title(title)\n",
        "    plt.colorbar()\n",
        "    tick_marks = np.arange(len(classes))\n",
        "    plt.xticks(tick_marks, classes, rotation=45)\n",
        "    plt.yticks(tick_marks, classes)\n",
        "\n",
        "    fmt = '.2f' if normalize else 'd'\n",
        "    thresh = cm.max() / 2.\n",
        "    for i, j in itertools.product(range(cm.shape[0]), range(cm.shape[1])):\n",
        "        plt.text(j, i, format(cm[i, j], fmt),\n",
        "                 horizontalalignment=\"center\",\n",
        "                 color=\"white\" if cm[i, j] > thresh else \"black\")\n",
        "\n",
        "    plt.tight_layout()\n",
        "    plt.ylabel('True label')\n",
        "    plt.xlabel('Predicted label')"
      ],
      "execution_count": 53,
      "outputs": []
    },
    {
      "cell_type": "code",
      "metadata": {
        "colab": {
          "base_uri": "https://localhost:8080/"
        },
        "id": "3cqjAaVNlvmK",
        "outputId": "6d80e5dd-21bf-420b-874a-7209e351246b"
      },
      "source": [
        "!pip install scikit-plot"
      ],
      "execution_count": 55,
      "outputs": [
        {
          "output_type": "stream",
          "name": "stdout",
          "text": [
            "Collecting scikit-plot\n",
            "  Downloading scikit_plot-0.3.7-py3-none-any.whl (33 kB)\n",
            "Requirement already satisfied: joblib>=0.10 in /usr/local/lib/python3.7/dist-packages (from scikit-plot) (1.0.1)\n",
            "Requirement already satisfied: matplotlib>=1.4.0 in /usr/local/lib/python3.7/dist-packages (from scikit-plot) (3.2.2)\n",
            "Requirement already satisfied: scikit-learn>=0.18 in /usr/local/lib/python3.7/dist-packages (from scikit-plot) (0.22.2.post1)\n",
            "Requirement already satisfied: scipy>=0.9 in /usr/local/lib/python3.7/dist-packages (from scikit-plot) (1.4.1)\n",
            "Requirement already satisfied: python-dateutil>=2.1 in /usr/local/lib/python3.7/dist-packages (from matplotlib>=1.4.0->scikit-plot) (2.8.2)\n",
            "Requirement already satisfied: kiwisolver>=1.0.1 in /usr/local/lib/python3.7/dist-packages (from matplotlib>=1.4.0->scikit-plot) (1.3.1)\n",
            "Requirement already satisfied: numpy>=1.11 in /usr/local/lib/python3.7/dist-packages (from matplotlib>=1.4.0->scikit-plot) (1.19.5)\n",
            "Requirement already satisfied: cycler>=0.10 in /usr/local/lib/python3.7/dist-packages (from matplotlib>=1.4.0->scikit-plot) (0.10.0)\n",
            "Requirement already satisfied: pyparsing!=2.0.4,!=2.1.2,!=2.1.6,>=2.0.1 in /usr/local/lib/python3.7/dist-packages (from matplotlib>=1.4.0->scikit-plot) (2.4.7)\n",
            "Requirement already satisfied: six in /usr/local/lib/python3.7/dist-packages (from cycler>=0.10->matplotlib>=1.4.0->scikit-plot) (1.15.0)\n",
            "Installing collected packages: scikit-plot\n",
            "Successfully installed scikit-plot-0.3.7\n"
          ]
        }
      ]
    },
    {
      "cell_type": "code",
      "metadata": {
        "id": "bHxxnQULkl14"
      },
      "source": [
        "# Function to evaluate a dataset\n",
        "# Metrics: Accuracy Precision Recall F1 AUC\n",
        "# The true labels are expected to be from to_categorical(true_labels)\n",
        "from sklearn.metrics import cohen_kappa_score\n",
        "import scikitplot as skplt\n",
        "def evaluate_dset(input_data_protA, input_data_protB, input_true_labels, input_model):\n",
        "    pY = input_model.predict([input_data_protA, input_data_protB], verbose=1, batch_size=b_size)\n",
        "    pred_label = np.argmax(pY, axis=1)\n",
        "    if((len(input_true_labels.shape)) == 2):\n",
        "        true_label = np.argmax(input_true_labels, axis=1)\n",
        "    else:\n",
        "        true_label = input_true_labels\n",
        "    \n",
        "    cm = skmetrics.confusion_matrix(true_label, pred_label)\n",
        "    accuracy = (cm[0,0]+cm[1,1]) / np.sum(cm)\n",
        "    # TP / (TP + FP)\n",
        "    precision = cm[1,1] / np.sum(cm[:,1])\n",
        "    # TP / (TP + FN)\n",
        "    recall = cm[1,1] / np.sum(cm[1,:])\n",
        "    # TN / (TN+FP)\n",
        "    specificity = cm[0,0] / np.sum(cm[:,0])\n",
        "    f1_score = skmetrics.f1_score(true_label, pred_label)\n",
        "    mcc_score = skmetrics.matthews_corrcoef(true_label, pred_label)\n",
        "    kappa_score = cohen_kappa_score(true_label, pred_label)\n",
        "    auc_score=0\n",
        "    if(len(np.unique(true_label)) == 2):\n",
        "        auc_score = skmetrics.roc_auc_score(true_label, pY[:,1])\n",
        "    dist_to_true_labels = np.float32(true_label) - np.float32(pY[:,1])\n",
        "    dist_to_true_labels = np.absolute(dist_to_true_labels)\n",
        "    \n",
        "    print(\"Accuracy: %f\" % accuracy)\n",
        "    print(\"Precision: %f\" % precision)\n",
        "    print(\"Recall: %f\" % recall)\n",
        "    print(\"Specificity: %f\" % specificity)\n",
        "    print(\"MCC: %f\" % mcc_score)\n",
        "    print(\"AUC: %f\" % auc_score)\n",
        "    print(\"F1 Score: %f\" % f1_score)\n",
        "    print(\"Kappa Score: %f\" % kappa_score)\n",
        "    print(\"Distance to true labels: %f +- %f\" % (np.mean(dist_to_true_labels), np.std(dist_to_true_labels)))\n",
        "    \n",
        "    # plot_confusion_matrix(cm, classes=['0','1'], normalize=True)\n",
        "    plot_confusion_matrix(cm, classes=['0','1'], normalize=False)\n",
        "\n",
        "    skplt.metrics.plot_roc_curve(true_label, pY)\n",
        "\n",
        "    # y_probas = input_model.predict_proba([input_data_protA, input_data_protB], verbose=1, batch_size=b_size)\n",
        "\n",
        "    \n",
        "    \n",
        "    return cm, accuracy, precision, recall, specificity, mcc_score, kappa_score, auc_score, f1_score, np.mean(dist_to_true_labels), np.std(dist_to_true_labels)"
      ],
      "execution_count": 72,
      "outputs": []
    },
    {
      "cell_type": "code",
      "metadata": {
        "id": "GwNdduydkpYZ"
      },
      "source": [
        "def process_results(res_list, res_names=None):\n",
        "    if(res_names is None):\n",
        "        res_names = [\"Accuracy\", \"Precision\", \"Recall\", \"Specificity\", \"MCC\", \"AUC\", \"F1\", \"Distance to GT(mean)\", \"Distance to GT(stdev)\"]\n",
        "    \n",
        "    # Skip the confusion matrix\n",
        "    res_array = np.array([res[1:] for res in res_list])\n",
        "    \n",
        "    mean_results = np.mean(res_array, axis=0)\n",
        "    std_results = np.std(res_array, axis=0)\n",
        "    for ii in np.arange(len(res_names)-2):\n",
        "        print(\"%s: %f +- %f\" % (res_names[ii], mean_results[ii]*100, std_results[ii]*100))\n",
        "    # Quick and dirty fix :(\n",
        "    print(\"%s: %f +- %f\" % (res_names[-2], mean_results[-2], std_results[-2]))\n",
        "    print(\"%s: %f +- %f\" % (res_names[-1], mean_results[-1], std_results[-1]))"
      ],
      "execution_count": 57,
      "outputs": []
    },
    {
      "cell_type": "code",
      "metadata": {
        "colab": {
          "base_uri": "https://localhost:8080/",
          "height": 698
        },
        "id": "9XrzsJbvkrHh",
        "outputId": "4df3edce-0f4c-4e32-bc59-d2ed15829b79"
      },
      "source": [
        "evaluate_dset(test_xA, test_xB, test_tY, model_ii)"
      ],
      "execution_count": null,
      "outputs": [
        {
          "output_type": "stream",
          "name": "stdout",
          "text": [
            "8629/8629 [==============================] - 151s 18ms/step\n",
            "Accuracy: 0.916445\n",
            "Precision: 0.934913\n",
            "Recall: 0.896924\n",
            "Specificity: 0.899101\n",
            "MCC: 0.833641\n",
            "AUC: 0.960076\n",
            "F1 Score: 0.915524\n",
            "Distance to true labels: 0.131632 +- 0.233104\n",
            "Normalized confusion matrix\n",
            "[[0.94 0.06]\n",
            " [0.1  0.9 ]]\n"
          ]
        },
        {
          "output_type": "execute_result",
          "data": {
            "text/plain": [
              "(array([[4001,  272],\n",
              "        [ 449, 3907]]),\n",
              " 0.9164445474562521,\n",
              " 0.934912658530749,\n",
              " 0.8969237832874196,\n",
              " 0.8991011235955056,\n",
              " 0.8336409436946178,\n",
              " 0.9600758075403311,\n",
              " 0.9155243116578793,\n",
              " 0.13163203,\n",
              " 0.23310444)"
            ]
          },
          "metadata": {},
          "execution_count": 60
        },
        {
          "output_type": "display_data",
          "data": {
            "image/png": "[encoded data removed]",
            "text/plain": [
              "<Figure size 432x288 with 2 Axes>"
            ]
          },
          "metadata": {
            "needs_background": "light"
          }
        }
      ]
    },
    {
      "cell_type": "code",
      "metadata": {
        "id": "EADtNyUnsAe3",
        "colab": {
          "base_uri": "https://localhost:8080/"
        },
        "outputId": "d0640ae5-b61d-4c2e-d280-e17b36b00cc2"
      },
      "source": [
        "model_ii = NN(num_words_dict)\n",
        "model_ii.compile(loss='binary_crossentropy',\n",
        "              optimizer=optimizers.RMSprop(lr=init_lr), \n",
        "              metrics=['accuracy'])\n",
        "model_ii.load_weights('/content/drive/MyDrive/PPI_Capsnet_20.h5')"
      ],
      "execution_count": 52,
      "outputs": [
        {
          "output_type": "stream",
          "name": "stdout",
          "text": [
            "WARNING:tensorflow:From /usr/local/lib/python3.7/dist-packages/keras/optimizers.py:790: The name tf.train.Optimizer is deprecated. Please use tf.compat.v1.train.Optimizer instead.\n",
            "\n",
            "WARNING:tensorflow:From /usr/local/lib/python3.7/dist-packages/keras/backend/tensorflow_backend.py:3376: The name tf.log is deprecated. Please use tf.math.log instead.\n",
            "\n",
            "WARNING:tensorflow:From /usr/local/lib/python3.7/dist-packages/tensorflow/python/ops/nn_impl.py:180: add_dispatch_support.<locals>.wrapper (from tensorflow.python.ops.array_ops) is deprecated and will be removed in a future version.\n",
            "Instructions for updating:\n",
            "Use tf.where in 2.0, which has the same broadcast rule as np.where\n"
          ]
        }
      ]
    },
    {
      "cell_type": "code",
      "metadata": {
        "colab": {
          "base_uri": "https://localhost:8080/",
          "height": 698
        },
        "id": "U9aDhgztsF0z",
        "outputId": "b8dc4e64-fce1-4768-8e68-4c2e95fa5364"
      },
      "source": [
        "evaluate_dset(test_xA, test_xB, test_tY, model_ii)"
      ],
      "execution_count": null,
      "outputs": [
        {
          "output_type": "stream",
          "name": "stdout",
          "text": [
            "8629/8629 [==============================] - 152s 18ms/step\n",
            "Accuracy: 0.916445\n",
            "Precision: 0.934913\n",
            "Recall: 0.896924\n",
            "Specificity: 0.899101\n",
            "MCC: 0.833641\n",
            "AUC: 0.960076\n",
            "F1 Score: 0.915524\n",
            "Distance to true labels: 0.131632 +- 0.233104\n",
            "Normalized confusion matrix\n",
            "[[0.94 0.06]\n",
            " [0.1  0.9 ]]\n"
          ]
        },
        {
          "output_type": "execute_result",
          "data": {
            "text/plain": [
              "(array([[4001,  272],\n",
              "        [ 449, 3907]]),\n",
              " 0.9164445474562521,\n",
              " 0.934912658530749,\n",
              " 0.8969237832874196,\n",
              " 0.8991011235955056,\n",
              " 0.8336409436946178,\n",
              " 0.9600758075403311,\n",
              " 0.9155243116578793,\n",
              " 0.13163203,\n",
              " 0.23310444)"
            ]
          },
          "metadata": {},
          "execution_count": 66
        },
        {
          "output_type": "display_data",
          "data": {
            "image/png": "[encoded data removed]",
            "text/plain": [
              "<Figure size 432x288 with 2 Axes>"
            ]
          },
          "metadata": {
            "needs_background": "light"
          }
        }
      ]
    },
    {
      "cell_type": "code",
      "metadata": {
        "id": "Vhs4QpzCnLRS"
      },
      "source": [
        "dset_ii_xA, dset_ii_xB, dset_ii_tY = generate_dset(valid_xA,\n",
        "                                                       valid_xB,\n",
        "                                                       valid_label,\n",
        "                                                       decorrelate=do_order_decorrelation,\n",
        "                                                       random_seed=0)\n",
        "    \n",
        "    # Now shuffle\n",
        "shuffled_indices = np.random.RandomState(seed=0).permutation(dset_ii_tY.shape[0])\n",
        "dset_ii_xA = dset_ii_xA[shuffled_indices]\n",
        "dset_ii_xB = dset_ii_xB[shuffled_indices]\n",
        "dset_ii_tY = dset_ii_tY[shuffled_indices]\n",
        "\n",
        "split_index = int(0.75 * dset_ii_tY.shape[0])\n",
        "# Up to the test split index, the test samples\n",
        "test_xA = dset_ii_xA[split_index:]\n",
        "test_xB = dset_ii_xB[split_index:]\n",
        "test_tY = dset_ii_tY[split_index:]\n",
        "\n",
        "# From the test split index to the end, the training samples\n",
        "train_xA = dset_ii_xA[:split_index]\n",
        "train_xB = dset_ii_xB[:split_index]\n",
        "train_tY = dset_ii_tY[:split_index]\n",
        "\n",
        "# Get an extra small validation set from the training set (90%). This will be used to stop the training\n",
        "val_split = int(train_tY.shape[0] * 0.9)\n",
        "val_xA = train_xA[val_split:]\n",
        "val_xB = train_xB[val_split:]\n",
        "val_tY = train_tY[val_split:]\n",
        "\n",
        "train_xA = train_xA[:val_split]\n",
        "train_xB = train_xB[:val_split]\n",
        "train_tY = train_tY[:val_split]"
      ],
      "execution_count": 61,
      "outputs": []
    },
    {
      "cell_type": "code",
      "metadata": {
        "colab": {
          "base_uri": "https://localhost:8080/",
          "height": 1000
        },
        "id": "V0osBxQjnBkq",
        "outputId": "0e63faad-2472-4d04-e800-9286131680d4"
      },
      "source": [
        "evaluate_dset(test_xA, test_xB, test_tY, model_ii)"
      ],
      "execution_count": 73,
      "outputs": [
        {
          "output_type": "stream",
          "name": "stdout",
          "text": [
            "8629/8629 [==============================] - 780s 90ms/step\n",
            "Accuracy: 0.916445\n",
            "Precision: 0.934913\n",
            "Recall: 0.896924\n",
            "Specificity: 0.899101\n",
            "MCC: 0.833641\n",
            "AUC: 0.960075\n",
            "F1 Score: 0.915524\n",
            "Kappa Score: 0.832940\n",
            "Distance to true labels: 0.131632 +- 0.233104\n",
            "Confusion matrix, without normalization\n",
            "[[4001  272]\n",
            " [ 449 3907]]\n"
          ]
        },
        {
          "output_type": "stream",
          "name": "stderr",
          "text": [
            "/usr/local/lib/python3.7/dist-packages/sklearn/utils/deprecation.py:87: FutureWarning: Function plot_roc_curve is deprecated; This will be removed in v0.5.0. Please use scikitplot.metrics.plot_roc instead.\n",
            "  warnings.warn(msg, category=FutureWarning)\n"
          ]
        },
        {
          "output_type": "execute_result",
          "data": {
            "text/plain": [
              "(array([[4001,  272],\n",
              "        [ 449, 3907]]),\n",
              " 0.9164445474562521,\n",
              " 0.934912658530749,\n",
              " 0.8969237832874196,\n",
              " 0.8991011235955056,\n",
              " 0.8336409436946178,\n",
              " 0.8329395610496337,\n",
              " 0.9600753777375483,\n",
              " 0.9155243116578793,\n",
              " 0.13163203,\n",
              " 0.23310445)"
            ]
          },
          "metadata": {},
          "execution_count": 73
        },
        {
          "output_type": "display_data",
          "data": {
            "image/png": "[encoded data removed]",
            "text/plain": [
              "<Figure size 432x288 with 2 Axes>"
            ]
          },
          "metadata": {
            "needs_background": "light"
          }
        },
        {
          "output_type": "display_data",
          "data": {
            "image/png": "[encoded data removed]",
            "text/plain": [
              "<Figure size 432x288 with 1 Axes>"
            ]
          },
          "metadata": {
            "needs_background": "light"
          }
        }
      ]
    }
  ]
}